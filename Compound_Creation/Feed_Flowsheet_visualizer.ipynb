{
 "cells": [
  {
   "cell_type": "code",
   "execution_count": 1,
   "metadata": {},
   "outputs": [
    {
     "name": "stdout",
     "output_type": "stream",
     "text": [
      "\n",
      "====================================================================================\n",
      "Unit : fs.feed                                                             Time: 0.0\n",
      "------------------------------------------------------------------------------------\n",
      "    Stream Table\n",
      "                                     Units        Outlet  \n",
      "    Total Molar Flowrate          mole / second     200.00\n",
      "    Total Mole Fraction methanol  dimensionless    0.70000\n",
      "    Total Mole Fraction ethanol   dimensionless    0.30000\n",
      "    Temperature                          kelvin     350.00\n",
      "    Pressure                             pascal 2.0000e+05\n",
      "====================================================================================\n"
     ]
    }
   ],
   "source": [
    "# Import functions from your script\n",
    "from compound_properties import setup_feed_stream, report_stream_properties\n",
    "\n",
    "# Create and solve the model\n",
    "m, result = setup_feed_stream(\n",
    "    flow_mol=200,  # Customize values here\n",
    "    mole_frac_methanol=0.7,\n",
    "    mole_frac_ethanol=0.3,\n",
    "    pressure=2e5,  # 200 kPa\n",
    "    temperature=350,  # 350 K\n",
    ")\n",
    "\n",
    "# Report properties\n",
    "prop = report_stream_properties(m)"
   ]
  },
  {
   "cell_type": "code",
   "execution_count": 2,
   "metadata": {},
   "outputs": [
    {
     "name": "stdout",
     "output_type": "stream",
     "text": [
      "2025-05-10 09:38:57 [INFO] idaes.idaes_ui.fv.fsvis: Started visualization server\n",
      "2025-05-10 09:38:57 [INFO] idaes.idaes_ui.fv.fsvis: Loading saved flowsheet from 'Feed Stream Structure.json'\n",
      "2025-05-10 09:38:57 [INFO] idaes.idaes_ui.fv.fsvis: Saving flowsheet to default file 'Feed Stream Structure.json' in current directory (/home/viraj/Documents/Github/IDAES PSE Examples/Compound_Creation)\n",
      "2025-05-10 09:38:57 [WARNING] idaes.idaes_ui.fv.fsvis: Flowsheet name changed: old='Feed Stream Structure' new='Feed-Stream-Structure'\n",
      "Flowsheet name changed to 'Feed-Stream-Structure'\n",
      "2025-05-10 09:38:57 [INFO] idaes.idaes_ui.fv.fsvis: Flowsheet visualization at: http://localhost:33137/app?id=Feed-Stream-Structure\n"
     ]
    },
    {
     "data": {
      "text/plain": [
       "VisualizeResult(store=<idaes_ui.fv.persist.FileDataStore object at 0x79147079f140>, port=33137, server=<idaes_ui.fv.model_server.FlowsheetServer object at 0x7914717b64e0>, save_diagram=<bound method SaveDiagramScreenshot.save_diagram_screenshot of <idaes_ui.fv.save_diagram_screenshot.SaveDiagramScreenshot object at 0x7914717cb9b0>>)"
      ]
     },
     "execution_count": 2,
     "metadata": {},
     "output_type": "execute_result"
    }
   ],
   "source": [
    "# Visualize (if needed)\n",
    "m.fs.visualize(\"Feed Stream Structure\")"
   ]
  }
 ],
 "metadata": {
  "kernelspec": {
   "display_name": ".venv",
   "language": "python",
   "name": "python3"
  },
  "language_info": {
   "codemirror_mode": {
    "name": "ipython",
    "version": 3
   },
   "file_extension": ".py",
   "mimetype": "text/x-python",
   "name": "python",
   "nbconvert_exporter": "python",
   "pygments_lexer": "ipython3",
   "version": "3.12.3"
  }
 },
 "nbformat": 4,
 "nbformat_minor": 2
}
