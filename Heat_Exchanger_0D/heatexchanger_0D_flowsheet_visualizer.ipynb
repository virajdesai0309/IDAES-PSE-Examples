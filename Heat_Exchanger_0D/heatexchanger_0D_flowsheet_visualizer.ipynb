{
 "cells": [
  {
   "cell_type": "markdown",
   "metadata": {},
   "source": [
    "> Displaying the IDAES PSE Verion"
   ]
  },
  {
   "cell_type": "code",
   "execution_count": 1,
   "metadata": {},
   "outputs": [
    {
     "name": "stdout",
     "output_type": "stream",
     "text": [
      "IDAES PSE version: 2.8.0\n"
     ]
    }
   ],
   "source": [
    "import idaes\n",
    "\n",
    "print(\"IDAES PSE version:\", idaes.__version__)"
   ]
  },
  {
   "cell_type": "code",
   "execution_count": 2,
   "metadata": {},
   "outputs": [
    {
     "name": "stdout",
     "output_type": "stream",
     "text": [
      "Initial Degrees of Freedom: 10\n",
      "Final Degrees of Freedom: 0\n",
      "2025-06-14 10:55:31 [INFO] idaes.init.fs.feed.properties: Starting initialization\n",
      "2025-06-14 10:55:31 [INFO] idaes.init.fs.feed.properties: Bubble, dew, and critical point initialization: optimal - Optimal Solution Found.\n",
      "2025-06-14 10:55:31 [INFO] idaes.init.fs.feed.properties: Equilibrium temperature initialization completed.\n",
      "2025-06-14 10:55:31 [INFO] idaes.init.fs.feed.properties: Phase equilibrium initialization: optimal - Optimal Solution Found.\n",
      "2025-06-14 10:55:31 [INFO] idaes.init.fs.feed.properties: Property initialization: optimal - Optimal Solution Found.\n",
      "2025-06-14 10:55:31 [INFO] idaes.init.fs.feed.properties: Property package initialization: optimal - Optimal Solution Found.\n",
      "2025-06-14 10:55:31 [INFO] idaes.init.fs.feed: Initialization Complete.\n",
      "2025-06-14 10:55:31 [INFO] idaes.init.fs.cooling_water_in: Initialization Complete.\n",
      "2025-06-14 10:55:31 [INFO] idaes.init.fs.heat_exchanger.hot_side.properties_in: Starting initialization\n",
      "2025-06-14 10:55:31 [INFO] idaes.init.fs.heat_exchanger.hot_side.properties_in: Bubble, dew, and critical point initialization: optimal - Optimal Solution Found.\n",
      "2025-06-14 10:55:31 [INFO] idaes.init.fs.heat_exchanger.hot_side.properties_in: Equilibrium temperature initialization completed.\n",
      "2025-06-14 10:55:32 [INFO] idaes.init.fs.heat_exchanger.hot_side.properties_in: Phase equilibrium initialization: optimal - Optimal Solution Found.\n",
      "2025-06-14 10:55:32 [INFO] idaes.init.fs.heat_exchanger.hot_side.properties_in: Property initialization: optimal - Optimal Solution Found.\n",
      "2025-06-14 10:55:32 [INFO] idaes.init.fs.heat_exchanger.hot_side.properties_out: Starting initialization\n",
      "2025-06-14 10:55:32 [INFO] idaes.init.fs.heat_exchanger.hot_side.properties_out: Bubble, dew, and critical point initialization: optimal - Optimal Solution Found.\n",
      "2025-06-14 10:55:32 [INFO] idaes.init.fs.heat_exchanger.hot_side.properties_out: Equilibrium temperature initialization completed.\n",
      "2025-06-14 10:55:32 [INFO] idaes.init.fs.heat_exchanger.hot_side.properties_out: Phase equilibrium initialization: optimal - Optimal Solution Found.\n",
      "2025-06-14 10:55:32 [INFO] idaes.init.fs.heat_exchanger.hot_side.properties_out: Property initialization: optimal - Optimal Solution Found.\n",
      "2025-06-14 10:55:32 [INFO] idaes.init.fs.heat_exchanger.hot_side: Initialization Complete\n",
      "2025-06-14 10:55:32 [INFO] idaes.init.fs.heat_exchanger.cold_side: Initialization Complete\n",
      "2025-06-14 10:55:33 [INFO] idaes.init.fs.heat_exchanger: Initialization Completed, optimal - Optimal Solution Found\n",
      "2025-06-14 10:55:33 [INFO] idaes.init.fs.product.properties: Starting initialization\n",
      "2025-06-14 10:55:33 [INFO] idaes.init.fs.product.properties: Bubble, dew, and critical point initialization: optimal - Optimal Solution Found.\n",
      "2025-06-14 10:55:33 [INFO] idaes.init.fs.product.properties: Equilibrium temperature initialization completed.\n",
      "2025-06-14 10:55:33 [INFO] idaes.init.fs.product.properties: Phase equilibrium initialization: optimal - Optimal Solution Found.\n",
      "2025-06-14 10:55:33 [INFO] idaes.init.fs.product.properties: Property initialization: optimal - Optimal Solution Found.\n",
      "2025-06-14 10:55:33 [INFO] idaes.init.fs.product.properties: Property package initialization: optimal - Optimal Solution Found.\n",
      "2025-06-14 10:55:33 [INFO] idaes.init.fs.product: Initialization Complete.\n",
      "2025-06-14 10:55:33 [INFO] idaes.init.fs.cooling_water_out: Initialization Complete.\n",
      "\n",
      "====================================================================================\n",
      "Unit : fs.feed                                                             Time: 0.0\n",
      "------------------------------------------------------------------------------------\n",
      "    Stream Table\n",
      "                                     Units        Outlet  \n",
      "    Total Molar Flowrate          mole / second     25.600\n",
      "    Total Mole Fraction methanol  dimensionless    0.50000\n",
      "    Total Mole Fraction ethanol   dimensionless    0.50000\n",
      "    Temperature                          kelvin     323.15\n",
      "    Pressure                             pascal 1.0132e+05\n",
      "====================================================================================\n",
      "\n",
      "====================================================================================\n",
      "Unit : fs.cooling_water_in                                                 Time: 0.0\n",
      "------------------------------------------------------------------------------------\n",
      "    Stream Table\n",
      "                         Units          Outlet  \n",
      "    Molar Flow          mole / second     55.510\n",
      "    Mass Flow       kilogram / second     1.0000\n",
      "    T                          kelvin     298.15\n",
      "    P                          pascal 1.0132e+05\n",
      "    Vapor Fraction      dimensionless     0.0000\n",
      "    Molar Enthalpy       joule / mole     1890.2\n",
      "====================================================================================\n",
      "\n",
      "====================================================================================\n",
      "Unit : fs.cooling_water_out                                                Time: 0.0\n",
      "------------------------------------------------------------------------------------\n",
      "    Stream Table\n",
      "                         Units           Inlet  \n",
      "    Molar Flow          mole / second     55.510\n",
      "    Mass Flow       kilogram / second     1.0000\n",
      "    T                          kelvin     309.65\n",
      "    P                          pascal 1.0132e+05\n",
      "    Vapor Fraction      dimensionless     0.0000\n",
      "    Molar Enthalpy       joule / mole     2755.9\n",
      "====================================================================================\n",
      "\n",
      "====================================================================================\n",
      "Unit : fs.product                                                          Time: 0.0\n",
      "------------------------------------------------------------------------------------\n",
      "    Stream Table\n",
      "                                     Units         Inlet  \n",
      "    Total Molar Flowrate          mole / second     25.600\n",
      "    Total Mole Fraction methanol  dimensionless    0.50000\n",
      "    Total Mole Fraction ethanol   dimensionless    0.50000\n",
      "    Temperature                          kelvin     304.70\n",
      "    Pressure                             pascal 1.0132e+05\n",
      "====================================================================================\n",
      "\n",
      "====================================================================================\n",
      "Unit : fs.heat_exchanger                                                   Time: 0.0\n",
      "------------------------------------------------------------------------------------\n",
      "    Unit Performance\n",
      "\n",
      "    Variables: \n",
      "\n",
      "    Key            : Value  : Units                           : Fixed : Bounds\n",
      "        Delta T In : 13.504 :                          kelvin : False : (None, None)\n",
      "       Delta T Out : 6.5498 :                          kelvin : False : (None, None)\n",
      "           HX Area : 5.0000 :                      meter ** 2 :  True : (0, None)\n",
      "    HX Coefficient : 1000.0 : kilogram / kelvin / second ** 3 :  True : (0, None)\n",
      "         Heat Duty : 48055. :                            watt : False : (None, None)\n",
      "\n",
      "    Expressions: \n",
      "\n",
      "    Key             : Value  : Units\n",
      "    Delta T Driving : 9.6110 : kelvin\n",
      "\n",
      "------------------------------------------------------------------------------------\n",
      "    Stream Table\n",
      "                                       Units        tube Inlet tube Outlet shell Inlet shell Outlet\n",
      "    Total Molar Flowrate              mole / second     25.600      25.600           -           - \n",
      "    Total Mole Fraction methanol      dimensionless    0.50000     0.50000           -           - \n",
      "    Total Mole Fraction ethanol       dimensionless    0.50000     0.50000           -           - \n",
      "    Temperature                              kelvin     323.15      304.70           -           - \n",
      "    Pressure                                 pascal 1.0132e+05  1.0132e+05           -           - \n",
      "    Molar Flow                        mole / second          -           -      55.510      55.510 \n",
      "    Mass Flow                     kilogram / second          -           -      1.0000      1.0000 \n",
      "    T                                        kelvin          -           -      298.15      309.65 \n",
      "    P                                        pascal          -           -  1.0132e+05  1.0132e+05 \n",
      "    Vapor Fraction                    dimensionless          -           -      0.0000      0.0000 \n",
      "    Molar Enthalpy                     joule / mole          -           -      1890.2      2755.9 \n",
      "====================================================================================\n"
     ]
    }
   ],
   "source": [
    "from heatexchanger_0D import setup_heatexchanger_model, report_heatexchanger_properties\n",
    "\n",
    "# Define input conditions\n",
    "feed_stream = {\n",
    "    \"flow_mol\": 25.60,\n",
    "    \"mole_frac_methanol\": 0.5,\n",
    "    \"mole_frac_ethanol\": 0.5,\n",
    "    \"pressure\": 101325,\n",
    "    \"temperature\": 323.15\n",
    "}\n",
    "water_stream = {\n",
    "    \"flow_mol\": 55.51,\n",
    "    \"pressure\": 101325,\n",
    "    \"temperature\": 298.15  # 25°C\n",
    "}\n",
    "    \n",
    "# Create and solve model\n",
    "m, results = setup_heatexchanger_model(feed_stream, water_stream, hx_area=5.0, hx_u=1000.0)\n",
    "    \n",
    "# Generate report\n",
    "prop = report_heatexchanger_properties(m)"
   ]
  },
  {
   "cell_type": "code",
   "execution_count": 3,
   "metadata": {},
   "outputs": [
    {
     "name": "stdout",
     "output_type": "stream",
     "text": [
      "2025-06-14 10:55:43 [INFO] idaes.idaes_ui.fv.fsvis: Started visualization server\n",
      "2025-06-14 10:55:43 [INFO] idaes.idaes_ui.fv.fsvis: Loading saved flowsheet from 'Heat Exchanger 0D Model.json'\n",
      "2025-06-14 10:55:43 [INFO] idaes.idaes_ui.fv.fsvis: Saving flowsheet to default file 'Heat Exchanger 0D Model.json' in current directory (/home/viraj/Documents/Github/IDAES PSE Examples/Heat_Exchanger_0D)\n",
      "2025-06-14 10:55:43 [WARNING] idaes.idaes_ui.fv.fsvis: Flowsheet name changed: old='Heat Exchanger 0D Model' new='Heat-Exchanger-0D-Model'\n",
      "Flowsheet name changed to 'Heat-Exchanger-0D-Model'\n",
      "2025-06-14 10:55:43 [INFO] idaes.idaes_ui.fv.fsvis: Flowsheet visualization at: http://localhost:55755/app?id=Heat-Exchanger-0D-Model\n"
     ]
    },
    {
     "data": {
      "text/plain": [
       "VisualizeResult(store=<idaes_ui.fv.persist.FileDataStore object at 0x78a9f9b3c560>, port=55755, server=<idaes_ui.fv.model_server.FlowsheetServer object at 0x78a9faf61520>, save_diagram=<bound method SaveDiagramScreenshot.save_diagram_screenshot of <idaes_ui.fv.save_diagram_screenshot.SaveDiagramScreenshot object at 0x78aa3c180fe0>>)"
      ]
     },
     "execution_count": 3,
     "metadata": {},
     "output_type": "execute_result"
    },
    {
     "name": "stdout",
     "output_type": "stream",
     "text": [
      "Opening in existing browser session.\n"
     ]
    }
   ],
   "source": [
    "# Visualize (if needed)\n",
    "m.fs.visualize(\"Heat Exchanger 0D Model\")"
   ]
  }
 ],
 "metadata": {
  "kernelspec": {
   "display_name": ".venv",
   "language": "python",
   "name": "python3"
  },
  "language_info": {
   "codemirror_mode": {
    "name": "ipython",
    "version": 3
   },
   "file_extension": ".py",
   "mimetype": "text/x-python",
   "name": "python",
   "nbconvert_exporter": "python",
   "pygments_lexer": "ipython3",
   "version": "3.12.3"
  }
 },
 "nbformat": 4,
 "nbformat_minor": 2
}
