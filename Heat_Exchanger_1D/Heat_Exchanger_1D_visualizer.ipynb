{
 "cells": [
  {
   "cell_type": "markdown",
   "id": "54c3f11f",
   "metadata": {},
   "source": [
    "This example demonstrates how to use the 1D Heat Exchanger model from IDAES PSE with a single property package, specifically the IAPWS Steam Table. In this example, one stream will be heated while the other will be cooled.\n",
    "\n",
    "The simulation of the 1D Heat Exchanger involves fixing any 7 of the following degrees of freedom:\n",
    "\n",
    "- Two of the shell parameters: length, diameter, or area.\n",
    "- Two of the tube parameters: length, diameter, or area.\n",
    "- Number of tubes.\n",
    "- Wall temperature (at all spatial points).\n",
    "- Heat transfer coefficient (at all spatial points, for both shell and tube).\n"
   ]
  },
  {
   "cell_type": "code",
   "execution_count": 1,
   "id": "a10284d3",
   "metadata": {},
   "outputs": [],
   "source": [
    "# Import pyomo package\n",
    "from pyomo.environ import ConcreteModel, Constraint, value, units\n",
    "\n",
    "# Import idaes logger to set output levels\n",
    "import idaes.logger as idaeslog\n",
    "\n",
    "# Import the main FlowsheetBlock from IDAES. The flowsheet block will contain the unit model\n",
    "from idaes.core import FlowsheetBlock\n",
    "\n",
    "# Import the IAPWS property package to create a properties block for steam in the flowsheet\n",
    "from idaes.models.properties import iapws95\n",
    "\n",
    "from idaes.models.properties.iapws95 import htpx\n",
    "\n",
    "# Import the degrees_of_freedom function from the idaes.core.util.model_statistics package\n",
    "from idaes.core.util.model_statistics import degrees_of_freedom\n",
    "\n",
    "# Import the default IPOPT solver\n",
    "from idaes.core.solvers import get_solver\n",
    "\n",
    "# Import a heat exchanger unit\n",
    "from idaes.models.unit_models.heat_exchanger_1D import (HeatExchanger1D,\n",
    "                                                        HeatExchangerFlowPattern)\n",
    "\n",
    "# Import a feed and product stream\n",
    "from idaes.models.unit_models import Feed, Product"
   ]
  },
  {
   "cell_type": "markdown",
   "id": "4bc9125d",
   "metadata": {},
   "source": [
    "## Setting up the flowsheet\n",
    "\n",
    "Creating a `concretemodel` foundation, attach the steady state flowsheet and declaring the property package on the shell and tube side of the heat exchanger"
   ]
  },
  {
   "cell_type": "code",
   "execution_count": 2,
   "id": "29835bb7",
   "metadata": {},
   "outputs": [],
   "source": [
    "m = ConcreteModel()\n",
    "\n",
    "m.fs = FlowsheetBlock(dynamic=False)\n",
    "\n",
    "m.fs.properties_shell = iapws95.Iapws95ParameterBlock()\n",
    "\n",
    "m.fs.properties_tube = iapws95.Iapws95ParameterBlock()\n",
    "\n",
    "m.fs.properties = iapws95.Iapws95ParameterBlock()"
   ]
  },
  {
   "cell_type": "markdown",
   "id": "8d833de6",
   "metadata": {},
   "source": [
    "## Defining Unit Operation Ports\n",
    "\n",
    "In this section, we define the key inlet and outlet ports for our 1D heat exchanger model:\n",
    "\n",
    "* **Cooling Water Inlet** – represents the feed stream of cooling water entering the heat exchanger.\n",
    "* **Cooling Water Outlet** – represents the exit stream of cooling water after it has absorbed heat.\n",
    "* **Steam Inlet** – represents the incoming hot steam that needs to be condensed.\n",
    "* **Condensate Outlet** – represents the outlet stream of condensed steam (liquid water) after heat transfer.\n"
   ]
  },
  {
   "cell_type": "code",
   "execution_count": 3,
   "id": "14ea9590",
   "metadata": {},
   "outputs": [],
   "source": [
    "m.fs.cooling_water_inlet = Feed(property_package=m.fs.properties)\n",
    "m.fs.cooling_water_outlet = Product(property_package=m.fs.properties)\n",
    "m.fs.steam_inlet = Feed(property_package=m.fs.properties)\n",
    "m.fs.condensate_outlet = Product(property_package=m.fs.properties)\n",
    "m.fs.heatexchanger = HeatExchanger1D(\n",
    "    hot_side_name = 'shell',\n",
    "    cold_side_name = 'tube',\n",
    "    shell={\"property_package\": m.fs.properties_shell,\n",
    "           \"transformation_method\": \"dae.finite_difference\",\n",
    "           \"transformation_scheme\": \"BACKWARD\"},\n",
    "    tube={\"property_package\": m.fs.properties_tube,\n",
    "          \"transformation_method\": \"dae.finite_difference\",\n",
    "          \"transformation_scheme\": \"BACKWARD\"},\n",
    "    finite_elements=20,\n",
    "    flow_type=HeatExchangerFlowPattern.cocurrent\n",
    ")\n"
   ]
  },
  {
   "cell_type": "code",
   "execution_count": 4,
   "id": "2cb59a76",
   "metadata": {},
   "outputs": [
    {
     "name": "stdout",
     "output_type": "stream",
     "text": [
      "The initial DOF is 29\n"
     ]
    }
   ],
   "source": [
    "# Call the degrees_of_freedom function, get initial DOF\n",
    "DOF_initial = degrees_of_freedom(m)\n",
    "print(\"The initial DOF is {0}\".format(DOF_initial))"
   ]
  },
  {
   "cell_type": "markdown",
   "id": "1910a118",
   "metadata": {},
   "source": [
    "## Connecting the unit opearations"
   ]
  },
  {
   "cell_type": "code",
   "execution_count": 5,
   "id": "473afade",
   "metadata": {},
   "outputs": [],
   "source": [
    "# Import necessary Pyomo components\n",
    "from pyomo.environ import TransformationFactory\n",
    "\n",
    "# Import the Arc component for connecting unit models\n",
    "from pyomo.network import Arc"
   ]
  },
  {
   "cell_type": "code",
   "execution_count": 6,
   "id": "4b69316c",
   "metadata": {},
   "outputs": [
    {
     "data": {
      "text/plain": [
       "29"
      ]
     },
     "execution_count": 6,
     "metadata": {},
     "output_type": "execute_result"
    }
   ],
   "source": [
    "m.fs.s01 = Arc(source=m.fs.cooling_water_inlet.outlet, destination=m.fs.heatexchanger.cold_side_inlet)\n",
    "m.fs.s02 = Arc(source=m.fs.steam_inlet.outlet, destination=m.fs.heatexchanger.hot_side_inlet)\n",
    "m.fs.s03 = Arc(source=m.fs.heatexchanger.cold_side_outlet, destination=m.fs.cooling_water_outlet.inlet)\n",
    "m.fs.s04 = Arc(source=m.fs.heatexchanger.hot_side_outlet, destination=m.fs.condensate_outlet.inlet)\n",
    "TransformationFactory(\"network.expand_arcs\").apply_to(m)\n",
    "\n",
    "# Call the degrees_of_freedom function, get initial DOF\n",
    "degrees_of_freedom(m)"
   ]
  },
  {
   "cell_type": "markdown",
   "id": "3f10d411",
   "metadata": {},
   "source": [
    "## Setting up the conditions"
   ]
  },
  {
   "cell_type": "code",
   "execution_count": 7,
   "id": "2bda793f",
   "metadata": {},
   "outputs": [
    {
     "data": {
      "text/plain": [
       "0"
      ]
     },
     "execution_count": 7,
     "metadata": {},
     "output_type": "execute_result"
    }
   ],
   "source": [
    "m.fs.cooling_water_inlet.flow_mol[0].fix(1.0)\n",
    "m.fs.cooling_water_inlet.pressure[0].fix(101325)\n",
    "m.fs.cooling_water_inlet.enth_mol[0].fix(htpx(300*units.K, P = 101325*units.Pa))\n",
    "\n",
    "m.fs.steam_inlet.flow_mol[0].fix(1.0)\n",
    "m.fs.steam_inlet.pressure[0].fix(101325)\n",
    "m.fs.steam_inlet.enth_mol[0].fix(htpx(400*units.K, P = 101325*units.Pa))\n",
    "\n",
    "m.fs.heatexchanger.area.fix(0.5) # m2\n",
    "m.fs.heatexchanger.length.fix(4.85) # m\n",
    "m.fs.heatexchanger.heat_transfer_coefficient.fix(500) # W/m2/K\n",
    "\n",
    "degrees_of_freedom(m)"
   ]
  },
  {
   "cell_type": "code",
   "execution_count": 8,
   "id": "b595ec12",
   "metadata": {},
   "outputs": [
    {
     "name": "stdout",
     "output_type": "stream",
     "text": [
      "2025-05-11 21:30:10 [INFO] idaes.init.fs.cooling_water_inlet: Initialization Complete.\n",
      "2025-05-11 21:30:10 [INFO] idaes.init.fs.cooling_water_outlet: Initialization Complete.\n",
      "2025-05-11 21:30:10 [INFO] idaes.init.fs.steam_inlet: Initialization Complete.\n",
      "2025-05-11 21:30:10 [INFO] idaes.init.fs.condensate_outlet: Initialization Complete.\n",
      "2025-05-11 21:30:10 [INFO] idaes.init.fs.heatexchanger.hot_side: Initialization Complete\n",
      "2025-05-11 21:30:10 [INFO] idaes.init.fs.heatexchanger.cold_side: Initialization Complete\n",
      "2025-05-11 21:30:11 [INFO] idaes.init.fs.heatexchanger: Initialization Complete.\n"
     ]
    }
   ],
   "source": [
    "# Initialize the flowsheet, and set the output at INFO\n",
    "m.fs.cooling_water_inlet.initialize(outlvl=idaeslog.INFO)\n",
    "m.fs.cooling_water_outlet.initialize(outlvl=idaeslog.INFO)\n",
    "m.fs.steam_inlet.initialize(outlvl=idaeslog.INFO)\n",
    "m.fs.condensate_outlet.initialize(outlvl=idaeslog.INFO)\n",
    "m.fs.heatexchanger.initialize(outlvl=idaeslog.INFO)"
   ]
  },
  {
   "cell_type": "code",
   "execution_count": 9,
   "id": "54ca132f",
   "metadata": {},
   "outputs": [
    {
     "name": "stdout",
     "output_type": "stream",
     "text": [
      "Ipopt 3.13.2: nlp_scaling_method=gradient-based\n",
      "tol=1e-06\n",
      "max_iter=200\n",
      "\n",
      "\n",
      "******************************************************************************\n",
      "This program contains Ipopt, a library for large-scale nonlinear optimization.\n",
      " Ipopt is released as open source code under the Eclipse Public License (EPL).\n",
      "         For more information visit http://projects.coin-or.org/Ipopt\n",
      "\n",
      "This version of Ipopt was compiled from source code available at\n",
      "    https://github.com/IDAES/Ipopt as part of the Institute for the Design of\n",
      "    Advanced Energy Systems Process Systems Engineering Framework (IDAES PSE\n",
      "    Framework) Copyright (c) 2018-2019. See https://github.com/IDAES/idaes-pse.\n",
      "\n",
      "This version of Ipopt was compiled using HSL, a collection of Fortran codes\n",
      "    for large-scale scientific computation.  All technical papers, sales and\n",
      "    publicity material resulting from use of the HSL codes within IPOPT must\n",
      "    contain the following acknowledgement:\n",
      "        HSL, a collection of Fortran codes for large-scale scientific\n",
      "        computation. See http://www.hsl.rl.ac.uk.\n",
      "******************************************************************************\n",
      "\n",
      "This is Ipopt version 3.13.2, running with linear solver ma27.\n",
      "\n",
      "Number of nonzeros in equality constraint Jacobian...:      916\n",
      "Number of nonzeros in inequality constraint Jacobian.:        0\n",
      "Number of nonzeros in Lagrangian Hessian.............:      230\n",
      "\n",
      "Total number of variables............................:      379\n",
      "                     variables with only lower bounds:        0\n",
      "                variables with lower and upper bounds:       88\n",
      "                     variables with only upper bounds:        0\n",
      "Total number of equality constraints.................:      379\n",
      "Total number of inequality constraints...............:        0\n",
      "        inequality constraints with only lower bounds:        0\n",
      "   inequality constraints with lower and upper bounds:        0\n",
      "        inequality constraints with only upper bounds:        0\n",
      "\n",
      "iter    objective    inf_pr   inf_du lg(mu)  ||d||  lg(rg) alpha_du alpha_pr  ls\n",
      "   0  0.0000000e+00 1.09e+07 0.00e+00  -1.0 0.00e+00    -  0.00e+00 0.00e+00   0\n",
      "   1  0.0000000e+00 2.72e+04 2.79e+12  -1.0 1.09e+07    -  2.01e-07 9.99e-01f  1\n",
      "   2  0.0000000e+00 5.15e+03 2.15e+11  -1.0 1.18e+05    -  5.17e-01 1.00e+00h  1\n",
      "   3  0.0000000e+00 2.10e+03 1.27e+04  -1.0 1.65e+04    -  4.49e-01 1.00e+00h  1\n",
      "   4  0.0000000e+00 5.30e+00 3.70e+03  -1.0 5.23e+03    -  6.10e-01 1.00e+00h  1\n",
      "   5  0.0000000e+00 3.38e-05 3.28e-01  -1.0 8.99e+00    -  9.90e-01 1.00e+00h  1\n",
      "   6  0.0000000e+00 2.08e-10 1.24e-05  -1.0 8.85e-05    -  9.90e-01 1.00e+00h  1\n",
      "\n",
      "Number of Iterations....: 6\n",
      "\n",
      "                                   (scaled)                 (unscaled)\n",
      "Objective...............:   0.0000000000000000e+00    0.0000000000000000e+00\n",
      "Dual infeasibility......:   0.0000000000000000e+00    0.0000000000000000e+00\n",
      "Constraint violation....:   2.0781953935511410e-10    2.0781953935511410e-10\n",
      "Complementarity.........:   0.0000000000000000e+00    0.0000000000000000e+00\n",
      "Overall NLP error.......:   2.0781953935511410e-10    2.0781953935511410e-10\n",
      "\n",
      "\n",
      "Number of objective function evaluations             = 7\n",
      "Number of objective gradient evaluations             = 7\n",
      "Number of equality constraint evaluations            = 7\n",
      "Number of inequality constraint evaluations          = 0\n",
      "Number of equality constraint Jacobian evaluations   = 7\n",
      "Number of inequality constraint Jacobian evaluations = 0\n",
      "Number of Lagrangian Hessian evaluations             = 6\n",
      "Total CPU secs in IPOPT (w/o function evaluations)   =      0.046\n",
      "Total CPU secs in NLP function evaluations           =      0.721\n",
      "\n",
      "EXIT: Optimal Solution Found.\n"
     ]
    }
   ],
   "source": [
    "# Solve the simulation using ipopt\n",
    "# Note: If the degrees of freedom = 0, we have a square problem\n",
    "opt = get_solver()\n",
    "solve_status = opt.solve(m, tee = True)"
   ]
  },
  {
   "cell_type": "code",
   "execution_count": 10,
   "id": "62b5b945",
   "metadata": {},
   "outputs": [
    {
     "name": "stdout",
     "output_type": "stream",
     "text": [
      "\n",
      "====================================================================================\n",
      "Unit : fs.heatexchanger                                                    Time: 0.0\n",
      "------------------------------------------------------------------------------------\n",
      "    Unit Performance\n",
      "\n",
      "    Variables: \n",
      "\n",
      "    Key    : Value   : Units      : Fixed : Bounds\n",
      "      Area : 0.50000 : meter ** 2 :  True : (None, None)\n",
      "    Length :  4.8500 :      meter :  True : (None, None)\n",
      "\n",
      "------------------------------------------------------------------------------------\n",
      "    Stream Table\n",
      "                         Units         shell Inlet  shell Outlet  tube Inlet  tube Outlet\n",
      "    Molar Flow          mole / second      1.0000        1.0000       1.0000      1.0000 \n",
      "    Mass Flow       kilogram / second    0.018015      0.018015     0.018015    0.018015 \n",
      "    T                          kelvin      400.00        373.12       300.00      369.73 \n",
      "    P                          pascal  1.0132e+05    1.0132e+05   1.0132e+05  1.0132e+05 \n",
      "    Vapor Fraction      dimensionless      1.0000       0.89483       0.0000      0.0000 \n",
      "    Molar Enthalpy       joule / mole      49187.        43925.       2029.5      7291.5 \n",
      "====================================================================================\n"
     ]
    }
   ],
   "source": [
    "# Display a readable report\n",
    "m.fs.heatexchanger.report()"
   ]
  },
  {
   "cell_type": "code",
   "execution_count": 11,
   "id": "6192a4a2",
   "metadata": {},
   "outputs": [
    {
     "name": "stdout",
     "output_type": "stream",
     "text": [
      "2025-05-11 21:31:04 [INFO] idaes.idaes_ui.fv.fsvis: Started visualization server\n",
      "2025-05-11 21:31:04 [INFO] idaes.idaes_ui.fv.fsvis: Saving flowsheet to default file 'Heat Exchanger 1D Model.json' in current directory (/home/viraj/Documents/Github/IDAES PSE Examples/Heat_Exchanger_1D)\n",
      "2025-05-11 21:31:04 [WARNING] idaes.idaes_ui.fv.fsvis: Flowsheet name changed: old='Heat Exchanger 1D Model' new='Heat-Exchanger-1D-Model'\n",
      "Flowsheet name changed to 'Heat-Exchanger-1D-Model'\n",
      "2025-05-11 21:31:04 [INFO] idaes.idaes_ui.fv.fsvis: Flowsheet visualization at: http://localhost:55279/app?id=Heat-Exchanger-1D-Model\n"
     ]
    },
    {
     "data": {
      "text/plain": [
       "VisualizeResult(store=<idaes_ui.fv.persist.FileDataStore object at 0x70bed65c9a30>, port=55279, server=<idaes_ui.fv.model_server.FlowsheetServer object at 0x70bed67bc140>, save_diagram=<bound method SaveDiagramScreenshot.save_diagram_screenshot of <idaes_ui.fv.save_diagram_screenshot.SaveDiagramScreenshot object at 0x70bed5807290>>)"
      ]
     },
     "execution_count": 11,
     "metadata": {},
     "output_type": "execute_result"
    }
   ],
   "source": [
    "m.fs.visualize(\"Heat Exchanger 1D Model\")"
   ]
  }
 ],
 "metadata": {
  "kernelspec": {
   "display_name": ".venv",
   "language": "python",
   "name": "python3"
  },
  "language_info": {
   "codemirror_mode": {
    "name": "ipython",
    "version": 3
   },
   "file_extension": ".py",
   "mimetype": "text/x-python",
   "name": "python",
   "nbconvert_exporter": "python",
   "pygments_lexer": "ipython3",
   "version": "3.12.3"
  }
 },
 "nbformat": 4,
 "nbformat_minor": 5
}
