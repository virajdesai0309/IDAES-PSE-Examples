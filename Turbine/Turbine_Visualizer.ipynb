{
 "cells": [
  {
   "cell_type": "markdown",
   "id": "0ff56803",
   "metadata": {},
   "source": [
    "**Steam Table Simulation: Steam Expansion Process in a Turbine**\n",
    "\n",
    "In this tutorial, we will simulate a steam expansion process through a turbine using thermodynamic properties obtained from standard steam tables. This approach is commonly used for water and steam systems, where accurate property data (enthalpy, entropy, specific volume) is tabulated based on temperature and pressure.\n",
    "\n",
    "We assume that the steam turbine operates at steady state.\n",
    "\n",
    "### Inlet Specifications:\n",
    "\n",
    "* **Mole Flow Rate**: 100 mol/s\n",
    "* **Inlet Pressure**: 3 MPa\n",
    "* **Inlet Temperature**: 773.15 K (500°C)\n",
    "\n",
    "We will simulate two different cases based on turbine configuration inputs provided by the user:\n",
    "\n",
    "---\n",
    "\n",
    "### **Case 1: Fixed Isentropic Efficiency and Pressure Drop**\n",
    "\n",
    "In this scenario, we assume that the user specifies the desired pressure decrease and the isentropic efficiency of the turbine. Steam properties at inlet and isentropic outlet conditions will be determined using steam tables.\n",
    "\n",
    "* **Pressure Drop**: 2 MPa\n",
    "* **Isentropic Efficiency**: 0.85\n",
    "\n",
    "---\n",
    "\n",
    "### **Case 2: Fixed Isentropic Efficiency and Pressure Ratio**\n",
    "\n",
    "Here, the user defines a pressure ratio instead of a pressure drop. The final pressure is calculated from the inlet pressure and pressure ratio, and steam table data is used to compute the isentropic and actual outlet enthalpy.\n",
    "\n",
    "* **Pressure Ratio**: 0.5\n",
    "* **Isentropic Efficiency**: 0.85\n",
    "\n",
    "---\n",
    "\n",
    "For both cases, outlet enthalpies and power output from the turbine will be calculated using steam table data. This approach is ideal when working with saturated or superheated steam in power plant simulations or thermodynamic cycle analysis.\n",
    "\n",
    "---\n"
   ]
  },
  {
   "cell_type": "code",
   "execution_count": 3,
   "id": "d08e1286",
   "metadata": {},
   "outputs": [],
   "source": [
    "# Import pyomo package\n",
    "from pyomo.environ import ConcreteModel, Constraint, value, units\n",
    "\n",
    "# Import idaes logger to set output levels\n",
    "import idaes.logger as idaeslog\n",
    "\n",
    "# Import the main FlowsheetBlock from IDAES. The flowsheet block will contain the unit model\n",
    "from idaes.core import FlowsheetBlock\n",
    "\n",
    "# Import the IAPWS property package to create a properties block for steam in the flowsheet\n",
    "from idaes.models.properties import iapws95\n",
    "\n",
    "from idaes.models.properties.iapws95 import htpx\n",
    "\n",
    "# Import the degrees_of_freedom function from the idaes.core.util.model_statistics package\n",
    "from idaes.core.util.model_statistics import degrees_of_freedom\n",
    "\n",
    "# Import the default IPOPT solver\n",
    "from idaes.core.solvers import get_solver\n",
    "\n",
    "# Import a compressor unit\n",
    "from idaes.models.unit_models.pressure_changer import Turbine, ThermodynamicAssumption\n",
    "\n",
    "# Import a feed and product stream\n",
    "from idaes.models.unit_models import Feed, Product"
   ]
  },
  {
   "cell_type": "markdown",
   "id": "59b6d66b",
   "metadata": {},
   "source": [
    "## Setting up the flowsheet\n",
    "\n",
    "Creating a `ConcreteModel` foundation, attaching the steady-state flowsheet, and declaring the property package for the steam turbine simulation."
   ]
  },
  {
   "cell_type": "code",
   "execution_count": 4,
   "id": "fa7a802b",
   "metadata": {},
   "outputs": [],
   "source": [
    "m = ConcreteModel()\n",
    "\n",
    "m.fs = FlowsheetBlock(dynamic=False)\n",
    "\n",
    "m.fs.properties = iapws95.Iapws95ParameterBlock()"
   ]
  },
  {
   "cell_type": "code",
   "execution_count": null,
   "id": "7e519bd9",
   "metadata": {},
   "outputs": [
    {
     "name": "stdout",
     "output_type": "stream",
     "text": [
      "The initial DOF is 5\n"
     ]
    }
   ],
   "source": [
    "m.fs.steam_in = Feed(property_package=m.fs.properties)\n",
    "m.fs.steam_out = Product(property_package=m.fs.properties)\n",
    "m.fs.turbine_1 = PressureChanger(\n",
    "    dynamic=False,\n",
    "    property_package=m.fs.properties,\n",
    "    compressor=True,\n",
    "    thermodynamic_assumption=ThermodynamicAssumption.isentropic\n",
    ")\n",
    "\n",
    "# Call the degrees_of_freedom function, get initial DOF\n",
    "DOF_initial = degrees_of_freedom(m)\n",
    "print(\"The initial DOF is {0}\".format(DOF_initial))"
   ]
  },
  {
   "cell_type": "markdown",
   "id": "74b36cf7",
   "metadata": {},
   "source": [
    "## Connecting the unit operations"
   ]
  },
  {
   "cell_type": "code",
   "execution_count": 7,
   "id": "e9124263",
   "metadata": {},
   "outputs": [],
   "source": [
    "# Import necessary Pyomo components\n",
    "from pyomo.environ import TransformationFactory\n",
    "\n",
    "# Import the Arc component for connecting unit models\n",
    "from pyomo.network import Arc"
   ]
  },
  {
   "cell_type": "code",
   "execution_count": 8,
   "id": "ec46a8c5",
   "metadata": {},
   "outputs": [
    {
     "data": {
      "text/plain": [
       "5"
      ]
     },
     "execution_count": 8,
     "metadata": {},
     "output_type": "execute_result"
    }
   ],
   "source": [
    "m.fs.s01 = Arc(source=m.fs.steam_in.outlet, destination = m.fs.compressor_1.inlet)\n",
    "m.fs.s02 = Arc(source=m.fs.compressor_1.outlet, destination = m.fs.steam_out.inlet)\n",
    "\n",
    "TransformationFactory(\"network.expand_arcs\").apply_to(m)\n",
    "\n",
    "# Call the degrees_of_freedom function, get initial DOF\n",
    "degrees_of_freedom(m)"
   ]
  },
  {
   "cell_type": "markdown",
   "id": "ccf1dfc1",
   "metadata": {},
   "source": [
    "## Setting up the conditions"
   ]
  },
  {
   "cell_type": "code",
   "execution_count": 9,
   "id": "a67939b5",
   "metadata": {},
   "outputs": [],
   "source": [
    "# Fix the stream inlet conditions\n",
    "m.fs.compressor_1.inlet.flow_mol[0].fix(100) # mol/s\n",
    "\n",
    "# Use htpx method to obtain the molar enthalpy of inlet stream at the given temperature and pressure conditions \n",
    "m.fs.compressor_1.inlet.enth_mol[0].fix(value(htpx(T=308.15*units.K, P=101325*units.Pa))) # T in K, P in Pa\n",
    "m.fs.compressor_1.inlet.pressure[0].fix(101325)"
   ]
  },
  {
   "cell_type": "markdown",
   "id": "a66dcec1",
   "metadata": {},
   "source": [
    "## Fixing the pressure change and isentropic efficiency"
   ]
  },
  {
   "cell_type": "code",
   "execution_count": 10,
   "id": "8035efb6",
   "metadata": {},
   "outputs": [
    {
     "name": "stdout",
     "output_type": "stream",
     "text": [
      "The final DOF is 0\n"
     ]
    }
   ],
   "source": [
    "# Fix compressor conditions\n",
    "m.fs.compressor_1.deltaP.fix(101325*5)\n",
    "m.fs.compressor_1.efficiency_isentropic.fix(0.85)\n",
    "\n",
    "# Call the degrees_of_freedom function, get final DOF\n",
    "DOF_final = degrees_of_freedom(m)\n",
    "print(\"The final DOF is {0}\".format(DOF_final))"
   ]
  },
  {
   "cell_type": "markdown",
   "id": "0e74ed1f",
   "metadata": {},
   "source": [
    "## Initaialization"
   ]
  },
  {
   "cell_type": "code",
   "execution_count": 11,
   "id": "494e437b",
   "metadata": {},
   "outputs": [
    {
     "name": "stdout",
     "output_type": "stream",
     "text": [
      "2025-05-12 19:12:52 [INFO] idaes.init.fs.compressor_1: Initialization Complete: optimal - Optimal Solution Found\n",
      "2025-05-12 19:12:52 [INFO] idaes.init.fs.steam_in: Initialization Complete.\n",
      "2025-05-12 19:12:52 [INFO] idaes.init.fs.steam_out: Initialization Complete.\n"
     ]
    }
   ],
   "source": [
    "# Initialize the flowsheet, and set the output at INFO level\n",
    "m.fs.compressor_1.initialize(outlvl=idaeslog.INFO)\n",
    "m.fs.steam_in.initialize(outlvl=idaeslog.INFO)\n",
    "m.fs.steam_out.initialize(outlvl=idaeslog.INFO)"
   ]
  },
  {
   "cell_type": "markdown",
   "id": "241b6a98",
   "metadata": {},
   "source": [
    "## Solve the model"
   ]
  },
  {
   "cell_type": "code",
   "execution_count": 12,
   "id": "c1acb332",
   "metadata": {},
   "outputs": [
    {
     "name": "stdout",
     "output_type": "stream",
     "text": [
      "Ipopt 3.13.2: \n",
      "\n",
      "******************************************************************************\n",
      "This program contains Ipopt, a library for large-scale nonlinear optimization.\n",
      " Ipopt is released as open source code under the Eclipse Public License (EPL).\n",
      "         For more information visit http://projects.coin-or.org/Ipopt\n",
      "\n",
      "This version of Ipopt was compiled from source code available at\n",
      "    https://github.com/IDAES/Ipopt as part of the Institute for the Design of\n",
      "    Advanced Energy Systems Process Systems Engineering Framework (IDAES PSE\n",
      "    Framework) Copyright (c) 2018-2019. See https://github.com/IDAES/idaes-pse.\n",
      "\n",
      "This version of Ipopt was compiled using HSL, a collection of Fortran codes\n",
      "    for large-scale scientific computation.  All technical papers, sales and\n",
      "    publicity material resulting from use of the HSL codes within IPOPT must\n",
      "    contain the following acknowledgement:\n",
      "        HSL, a collection of Fortran codes for large-scale scientific\n",
      "        computation. See http://www.hsl.rl.ac.uk.\n",
      "******************************************************************************\n",
      "\n",
      "This is Ipopt version 3.13.2, running with linear solver ma27.\n",
      "\n",
      "Number of nonzeros in equality constraint Jacobian...:       27\n",
      "Number of nonzeros in inequality constraint Jacobian.:        0\n",
      "Number of nonzeros in Lagrangian Hessian.............:        8\n",
      "\n",
      "Total number of variables............................:       15\n",
      "                     variables with only lower bounds:        0\n",
      "                variables with lower and upper bounds:        8\n",
      "                     variables with only upper bounds:        0\n",
      "Total number of equality constraints.................:       15\n",
      "Total number of inequality constraints...............:        0\n",
      "        inequality constraints with only lower bounds:        0\n",
      "   inequality constraints with lower and upper bounds:        0\n",
      "        inequality constraints with only upper bounds:        0\n",
      "\n",
      "iter    objective    inf_pr   inf_du lg(mu)  ||d||  lg(rg) alpha_du alpha_pr  ls\n",
      "   0  0.0000000e+00 1.09e+07 0.00e+00  -1.0 0.00e+00    -  0.00e+00 0.00e+00   0\n",
      "   1  0.0000000e+00 9.00e+03 2.65e+05  -1.0 1.09e+07    -  3.73e-06 9.99e-01f  1\n",
      "   2  0.0000000e+00 3.09e-13 9.91e-03  -1.0 9.00e+03    -  9.90e-01 1.00e+00h  1\n",
      "\n",
      "Number of Iterations....: 2\n",
      "\n",
      "                                   (scaled)                 (unscaled)\n",
      "Objective...............:   0.0000000000000000e+00    0.0000000000000000e+00\n",
      "Dual infeasibility......:   0.0000000000000000e+00    0.0000000000000000e+00\n",
      "Constraint violation....:   3.0908609005564358e-13    3.0908609005564358e-13\n",
      "Complementarity.........:   0.0000000000000000e+00    0.0000000000000000e+00\n",
      "Overall NLP error.......:   3.0908609005564358e-13    3.0908609005564358e-13\n",
      "\n",
      "\n",
      "Number of objective function evaluations             = 3\n",
      "Number of objective gradient evaluations             = 3\n",
      "Number of equality constraint evaluations            = 3\n",
      "Number of inequality constraint evaluations          = 0\n",
      "Number of equality constraint Jacobian evaluations   = 3\n",
      "Number of inequality constraint Jacobian evaluations = 0\n",
      "Number of Lagrangian Hessian evaluations             = 2\n",
      "Total CPU secs in IPOPT (w/o function evaluations)   =      0.025\n",
      "Total CPU secs in NLP function evaluations           =      0.015\n",
      "\n",
      "EXIT: Optimal Solution Found.\n"
     ]
    }
   ],
   "source": [
    "# Solve the simulation using ipopt\n",
    "# Note: If the degrees of freedom = 0, we have a square problem\n",
    "from pyomo.environ import SolverFactory\n",
    "opt = SolverFactory('ipopt')\n",
    "solve_status = opt.solve(m, tee=True)"
   ]
  },
  {
   "cell_type": "code",
   "execution_count": 13,
   "id": "3d3ec0b3",
   "metadata": {},
   "outputs": [
    {
     "name": "stdout",
     "output_type": "stream",
     "text": [
      "\n",
      "====================================================================================\n",
      "Unit : fs.compressor_1                                                     Time: 0.0\n",
      "------------------------------------------------------------------------------------\n",
      "    Unit Performance\n",
      "\n",
      "    Variables: \n",
      "\n",
      "    Key                   : Value      : Units         : Fixed : Bounds\n",
      "    Isentropic Efficiency :    0.85000 : dimensionless :  True : (None, None)\n",
      "          Mechanical Work :     1080.1 :          watt : False : (None, None)\n",
      "          Pressure Change : 5.0662e+05 :        pascal :  True : (None, None)\n",
      "           Pressure Ratio :     6.0000 : dimensionless : False : (None, None)\n",
      "\n",
      "------------------------------------------------------------------------------------\n",
      "    Stream Table\n",
      "                         Units           Inlet     Outlet  \n",
      "    Molar Flow          mole / second     100.00     100.00\n",
      "    Mass Flow       kilogram / second     1.8015     1.8015\n",
      "    T                          kelvin     308.15     308.18\n",
      "    P                          pascal 1.0132e+05 6.0795e+05\n",
      "    Vapor Fraction      dimensionless     0.0000     0.0000\n",
      "    Molar Enthalpy       joule / mole     2643.2     2654.0\n",
      "====================================================================================\n"
     ]
    }
   ],
   "source": [
    "# View results\n",
    "m.fs.compressor_1.report()"
   ]
  },
  {
   "cell_type": "code",
   "execution_count": 14,
   "id": "b067d91b",
   "metadata": {},
   "outputs": [
    {
     "name": "stdout",
     "output_type": "stream",
     "text": [
      "2025-05-12 19:12:54 [INFO] idaes.idaes_ui.fv.fsvis: Started visualization server\n",
      "2025-05-12 19:12:54 [INFO] idaes.idaes_ui.fv.fsvis: Loading saved flowsheet from 'Compressor Model.json'\n",
      "2025-05-12 19:12:54 [INFO] idaes.idaes_ui.fv.fsvis: Saving flowsheet to default file 'Compressor Model.json' in current directory (/home/viraj/Documents/Github/IDAES PSE Examples/Compressor)\n",
      "2025-05-12 19:12:54 [WARNING] idaes.idaes_ui.fv.fsvis: Flowsheet name changed: old='Compressor Model' new='Compressor-Model'\n",
      "Flowsheet name changed to 'Compressor-Model'\n",
      "2025-05-12 19:12:54 [INFO] idaes.idaes_ui.fv.fsvis: Flowsheet visualization at: http://localhost:39697/app?id=Compressor-Model\n"
     ]
    },
    {
     "data": {
      "text/plain": [
       "VisualizeResult(store=<idaes_ui.fv.persist.FileDataStore object at 0x79b964961100>, port=39697, server=<idaes_ui.fv.model_server.FlowsheetServer object at 0x79b9653360c0>, save_diagram=<bound method SaveDiagramScreenshot.save_diagram_screenshot of <idaes_ui.fv.save_diagram_screenshot.SaveDiagramScreenshot object at 0x79b965b4e780>>)"
      ]
     },
     "execution_count": 14,
     "metadata": {},
     "output_type": "execute_result"
    }
   ],
   "source": [
    "m.fs.visualize(\"Compressor Model\")"
   ]
  }
 ],
 "metadata": {
  "kernelspec": {
   "display_name": ".venv",
   "language": "python",
   "name": "python3"
  },
  "language_info": {
   "codemirror_mode": {
    "name": "ipython",
    "version": 3
   },
   "file_extension": ".py",
   "mimetype": "text/x-python",
   "name": "python",
   "nbconvert_exporter": "python",
   "pygments_lexer": "ipython3",
   "version": "3.12.3"
  }
 },
 "nbformat": 4,
 "nbformat_minor": 5
}
