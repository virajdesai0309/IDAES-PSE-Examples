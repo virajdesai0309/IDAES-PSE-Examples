{
 "cells": [
  {
   "cell_type": "markdown",
   "id": "0ff56803",
   "metadata": {},
   "source": [
    "**Steam Table Simulation: Steam Compression Process**\n",
    "\n",
    "In this tutorial, we will simulate a steam compression process using thermodynamic properties obtained from standard steam tables. This approach is commonly used for water and steam systems, where accurate property data (enthalpy, entropy, specific volume) is tabulated based on temperature and pressure.\n",
    "\n",
    "We assume that the steam compressor operates at steady state.\n",
    "\n",
    "### Inlet Specifications:\n",
    "\n",
    "* **Mole Flow Rate**: 100 mol/s\n",
    "* **Inlet Pressure**: 0.1 MPa\n",
    "* **Inlet Temperature**: 373.15 K (100°C)\n",
    "\n",
    "We will simulate two different cases based on compressor configuration inputs provided by the user:\n",
    "\n",
    "---\n",
    "\n",
    "### **Case 1: Fixed Isentropic Efficiency and Pressure Change**\n",
    "\n",
    "In this scenario, we assume that the user specifies the desired pressure increase and the isentropic efficiency of the compressor. Steam properties at inlet and isentropic outlet conditions will be determined using steam tables.\n",
    "\n",
    "* **Pressure Change**: 1.5 MPa\n",
    "* **Isentropic Efficiency**: 0.85\n",
    "\n",
    "---\n",
    "\n",
    "### **Case 2: Fixed Isentropic Efficiency and Pressure Ratio**\n",
    "\n",
    "Here, the user defines a pressure ratio instead of a pressure change. The final pressure is calculated from the inlet pressure and pressure ratio, and steam table data is used to compute the isentropic and actual outlet enthalpy.\n",
    "\n",
    "* **Pressure Ratio**: 16\n",
    "* **Isentropic Efficiency**: 0.85\n",
    "\n",
    "---\n",
    "\n",
    "For both cases, outlet enthalpies and power input to the compressor will be calculated using steam table data. This approach is ideal when working with saturated or superheated steam in power plant simulations or thermodynamic cycle analysis.\n",
    "\n",
    "---\n"
   ]
  },
  {
   "cell_type": "code",
   "execution_count": 1,
   "id": "d08e1286",
   "metadata": {},
   "outputs": [],
   "source": [
    "# Import pyomo package\n",
    "from pyomo.environ import ConcreteModel, Constraint, value, units\n",
    "\n",
    "# Import idaes logger to set output levels\n",
    "import idaes.logger as idaeslog\n",
    "\n",
    "# Import the main FlowsheetBlock from IDAES. The flowsheet block will contain the unit model\n",
    "from idaes.core import FlowsheetBlock\n",
    "\n",
    "# Import the IAPWS property package to create a properties block for steam in the flowsheet\n",
    "from idaes.models.properties import iapws95\n",
    "\n",
    "from idaes.models.properties.iapws95 import htpx\n",
    "\n",
    "# Import the degrees_of_freedom function from the idaes.core.util.model_statistics package\n",
    "from idaes.core.util.model_statistics import degrees_of_freedom\n",
    "\n",
    "# Import the default IPOPT solver\n",
    "from idaes.core.solvers import get_solver\n",
    "\n",
    "# Import a compressor unit\n",
    "from idaes.models.unit_models.pressure_changer import PressureChanger,ThermodynamicAssumption\n",
    "\n",
    "# Import a feed and product stream\n",
    "from idaes.models.unit_models import Feed, Product"
   ]
  },
  {
   "cell_type": "markdown",
   "id": "59b6d66b",
   "metadata": {},
   "source": [
    "## Setting up the flowsheet\n",
    "\n",
    "Creating a `concretemodel` foundation, attach the steady state flowsheet and declaring the property package on the shell and tube side of the heat exchanger"
   ]
  },
  {
   "cell_type": "code",
   "execution_count": 2,
   "id": "fa7a802b",
   "metadata": {},
   "outputs": [],
   "source": [
    "m = ConcreteModel()\n",
    "\n",
    "m.fs = FlowsheetBlock(dynamic=False)\n",
    "\n",
    "m.fs.properties = iapws95.Iapws95ParameterBlock()"
   ]
  },
  {
   "cell_type": "code",
   "execution_count": 3,
   "id": "7e519bd9",
   "metadata": {},
   "outputs": [
    {
     "name": "stdout",
     "output_type": "stream",
     "text": [
      "The initial DOF is 5\n"
     ]
    }
   ],
   "source": [
    "m.fs.steam_in_case_1 = Feed(property_package=m.fs.properties)\n",
    "m.fs.steam_out_case_1 = Product(property_package=m.fs.properties)\n",
    "m.fs.compressor_1 = PressureChanger(\n",
    "    dynamic=False,\n",
    "    property_package=m.fs.properties,\n",
    "    compressor=True,\n",
    "    thermodynamic_assumption=ThermodynamicAssumption.isentropic\n",
    ")\n",
    "\n",
    "# Call the degrees_of_freedom function, get initial DOF\n",
    "DOF_initial = degrees_of_freedom(m)\n",
    "print(\"The initial DOF is {0}\".format(DOF_initial))"
   ]
  },
  {
   "cell_type": "markdown",
   "id": "74b36cf7",
   "metadata": {},
   "source": [
    "## Connecting the unit operations"
   ]
  },
  {
   "cell_type": "code",
   "execution_count": 4,
   "id": "e9124263",
   "metadata": {},
   "outputs": [],
   "source": [
    "# Import necessary Pyomo components\n",
    "from pyomo.environ import TransformationFactory\n",
    "\n",
    "# Import the Arc component for connecting unit models\n",
    "from pyomo.network import Arc"
   ]
  },
  {
   "cell_type": "code",
   "execution_count": 5,
   "id": "ec46a8c5",
   "metadata": {},
   "outputs": [
    {
     "data": {
      "text/plain": [
       "5"
      ]
     },
     "execution_count": 5,
     "metadata": {},
     "output_type": "execute_result"
    }
   ],
   "source": [
    "m.fs.s01 = Arc(source=m.fs.steam_in_case_1.outlet, destination = m.fs.compressor_1.inlet)\n",
    "m.fs.s02 = Arc(source=m.fs.compressor_1.outlet, destination = m.fs.steam_out_case_1.inlet)\n",
    "\n",
    "TransformationFactory(\"network.expand_arcs\").apply_to(m)\n",
    "\n",
    "# Call the degrees_of_freedom function, get initial DOF\n",
    "degrees_of_freedom(m)"
   ]
  },
  {
   "cell_type": "markdown",
   "id": "ccf1dfc1",
   "metadata": {},
   "source": [
    "## Setting up the conditions"
   ]
  },
  {
   "cell_type": "code",
   "execution_count": 6,
   "id": "a67939b5",
   "metadata": {},
   "outputs": [],
   "source": [
    "# Fix the stream inlet conditions\n",
    "m.fs.steam_in_case_1.outlet.flow_mol[0].fix(100) # mol/s\n",
    "\n",
    "# Use htpx method to obtain the molar enthalpy of inlet stream at the given temperature and pressure conditions \n",
    "m.fs.steam_in_case_1.outlet.enth_mol[0].fix(value(htpx(T=308.15*units.K, P=101325*units.Pa))) # T in K, P in Pa\n",
    "m.fs.steam_in_case_1.outlet.pressure[0].fix(101325)"
   ]
  },
  {
   "cell_type": "markdown",
   "id": "a66dcec1",
   "metadata": {},
   "source": [
    "## Fixing the pressure change and isentropic efficiency"
   ]
  },
  {
   "cell_type": "code",
   "execution_count": 7,
   "id": "8035efb6",
   "metadata": {},
   "outputs": [
    {
     "name": "stdout",
     "output_type": "stream",
     "text": [
      "The final DOF is 0\n"
     ]
    }
   ],
   "source": [
    "# Fix compressor conditions\n",
    "m.fs.compressor_1.deltaP.fix(101325*5)\n",
    "m.fs.compressor_1.efficiency_isentropic.fix(0.85)\n",
    "\n",
    "# Call the degrees_of_freedom function, get final DOF\n",
    "DOF_final = degrees_of_freedom(m)\n",
    "print(\"The final DOF is {0}\".format(DOF_final))"
   ]
  },
  {
   "cell_type": "markdown",
   "id": "0e74ed1f",
   "metadata": {},
   "source": [
    "## Initaialization"
   ]
  },
  {
   "cell_type": "code",
   "execution_count": 9,
   "id": "494e437b",
   "metadata": {},
   "outputs": [
    {
     "name": "stdout",
     "output_type": "stream",
     "text": [
      "2025-05-13 18:20:16 [INFO] idaes.init.fs.compressor_1: Initialization Complete: optimal - Optimal Solution Found\n",
      "2025-05-13 18:20:16 [INFO] idaes.init.fs.steam_in_case_1: Initialization Complete.\n",
      "2025-05-13 18:20:16 [INFO] idaes.init.fs.steam_out_case_1: Initialization Complete.\n"
     ]
    }
   ],
   "source": [
    "# Initialize the flowsheet, and set the output at INFO level\n",
    "m.fs.compressor_1.initialize(outlvl=idaeslog.INFO)\n",
    "m.fs.steam_in_case_1.initialize(outlvl=idaeslog.INFO)\n",
    "m.fs.steam_out_case_1.initialize(outlvl=idaeslog.INFO)"
   ]
  },
  {
   "cell_type": "markdown",
   "id": "241b6a98",
   "metadata": {},
   "source": [
    "## Solve the model"
   ]
  },
  {
   "cell_type": "code",
   "execution_count": 10,
   "id": "c1acb332",
   "metadata": {},
   "outputs": [
    {
     "name": "stdout",
     "output_type": "stream",
     "text": [
      "Ipopt 3.13.2: \n",
      "\n",
      "******************************************************************************\n",
      "This program contains Ipopt, a library for large-scale nonlinear optimization.\n",
      " Ipopt is released as open source code under the Eclipse Public License (EPL).\n",
      "         For more information visit http://projects.coin-or.org/Ipopt\n",
      "\n",
      "This version of Ipopt was compiled from source code available at\n",
      "    https://github.com/IDAES/Ipopt as part of the Institute for the Design of\n",
      "    Advanced Energy Systems Process Systems Engineering Framework (IDAES PSE\n",
      "    Framework) Copyright (c) 2018-2019. See https://github.com/IDAES/idaes-pse.\n",
      "\n",
      "This version of Ipopt was compiled using HSL, a collection of Fortran codes\n",
      "    for large-scale scientific computation.  All technical papers, sales and\n",
      "    publicity material resulting from use of the HSL codes within IPOPT must\n",
      "    contain the following acknowledgement:\n",
      "        HSL, a collection of Fortran codes for large-scale scientific\n",
      "        computation. See http://www.hsl.rl.ac.uk.\n",
      "******************************************************************************\n",
      "\n",
      "This is Ipopt version 3.13.2, running with linear solver ma27.\n",
      "\n",
      "Number of nonzeros in equality constraint Jacobian...:       36\n",
      "Number of nonzeros in inequality constraint Jacobian.:        0\n",
      "Number of nonzeros in Lagrangian Hessian.............:       14\n",
      "\n",
      "Total number of variables............................:       15\n",
      "                     variables with only lower bounds:        0\n",
      "                variables with lower and upper bounds:        8\n",
      "                     variables with only upper bounds:        0\n",
      "Total number of equality constraints.................:       15\n",
      "Total number of inequality constraints...............:        0\n",
      "        inequality constraints with only lower bounds:        0\n",
      "   inequality constraints with lower and upper bounds:        0\n",
      "        inequality constraints with only upper bounds:        0\n",
      "\n",
      "iter    objective    inf_pr   inf_du lg(mu)  ||d||  lg(rg) alpha_du alpha_pr  ls\n",
      "   0  0.0000000e+00 1.09e+07 0.00e+00  -1.0 0.00e+00    -  0.00e+00 0.00e+00   0\n",
      "   1  0.0000000e+00 4.97e+05 8.25e+08  -1.0 1.09e+07    -  3.73e-06 9.99e-01f  1\n",
      "   2  0.0000000e+00 4.06e+04 7.04e+05  -1.0 9.00e+03    -  9.89e-01 1.00e+00h  1\n",
      "   3  0.0000000e+00 3.71e-11 2.88e-02  -1.0 4.00e-01    -  9.90e-01 1.00e+00h  1\n",
      "\n",
      "Number of Iterations....: 3\n",
      "\n",
      "                                   (scaled)                 (unscaled)\n",
      "Objective...............:   0.0000000000000000e+00    0.0000000000000000e+00\n",
      "Dual infeasibility......:   0.0000000000000000e+00    0.0000000000000000e+00\n",
      "Constraint violation....:   3.7061909097246826e-11    3.7061909097246826e-11\n",
      "Complementarity.........:   0.0000000000000000e+00    0.0000000000000000e+00\n",
      "Overall NLP error.......:   3.7061909097246826e-11    3.7061909097246826e-11\n",
      "\n",
      "\n",
      "Number of objective function evaluations             = 4\n",
      "Number of objective gradient evaluations             = 4\n",
      "Number of equality constraint evaluations            = 4\n",
      "Number of inequality constraint evaluations          = 0\n",
      "Number of equality constraint Jacobian evaluations   = 4\n",
      "Number of inequality constraint Jacobian evaluations = 0\n",
      "Number of Lagrangian Hessian evaluations             = 3\n",
      "Total CPU secs in IPOPT (w/o function evaluations)   =      0.055\n",
      "Total CPU secs in NLP function evaluations           =      0.105\n",
      "\n",
      "EXIT: Optimal Solution Found.\n"
     ]
    }
   ],
   "source": [
    "# Solve the simulation using ipopt\n",
    "# Note: If the degrees of freedom = 0, we have a square problem\n",
    "from pyomo.environ import SolverFactory\n",
    "opt = SolverFactory('ipopt')\n",
    "solve_status = opt.solve(m, tee=True)"
   ]
  },
  {
   "cell_type": "code",
   "execution_count": 11,
   "id": "3d3ec0b3",
   "metadata": {},
   "outputs": [
    {
     "name": "stdout",
     "output_type": "stream",
     "text": [
      "\n",
      "====================================================================================\n",
      "Unit : fs.compressor_1                                                     Time: 0.0\n",
      "------------------------------------------------------------------------------------\n",
      "    Unit Performance\n",
      "\n",
      "    Variables: \n",
      "\n",
      "    Key                   : Value      : Units         : Fixed : Bounds\n",
      "    Isentropic Efficiency :    0.85000 : dimensionless :  True : (None, None)\n",
      "          Mechanical Work :     1080.1 :          watt : False : (None, None)\n",
      "          Pressure Change : 5.0662e+05 :        pascal :  True : (None, None)\n",
      "           Pressure Ratio :     6.0000 : dimensionless : False : (None, None)\n",
      "\n",
      "------------------------------------------------------------------------------------\n",
      "    Stream Table\n",
      "                         Units           Inlet     Outlet  \n",
      "    Molar Flow          mole / second     100.00     100.00\n",
      "    Mass Flow       kilogram / second     1.8015     1.8015\n",
      "    T                          kelvin     308.15     308.18\n",
      "    P                          pascal 1.0132e+05 6.0795e+05\n",
      "    Vapor Fraction      dimensionless     0.0000     0.0000\n",
      "    Molar Enthalpy       joule / mole     2643.2     2654.0\n",
      "====================================================================================\n"
     ]
    }
   ],
   "source": [
    "# View results\n",
    "m.fs.compressor_1.report()"
   ]
  },
  {
   "cell_type": "markdown",
   "id": "92266958",
   "metadata": {},
   "source": [
    "## Case 2 Fixed Isentropic Efficiency and Pressure Ratio"
   ]
  },
  {
   "cell_type": "code",
   "execution_count": 12,
   "id": "eb67a11f",
   "metadata": {},
   "outputs": [
    {
     "name": "stdout",
     "output_type": "stream",
     "text": [
      "The initial DOF is 5\n",
      "The final DOF is 0\n",
      "2025-05-13 18:21:10 [INFO] idaes.init.fs.compressor_2: Initialization Complete: optimal - Optimal Solution Found\n",
      "2025-05-13 18:21:10 [INFO] idaes.init.fs.steam_in_case_2: Initialization Complete.\n",
      "2025-05-13 18:21:10 [INFO] idaes.init.fs.steam_out_case_2: Initialization Complete.\n",
      "Ipopt 3.13.2: \n",
      "\n",
      "******************************************************************************\n",
      "This program contains Ipopt, a library for large-scale nonlinear optimization.\n",
      " Ipopt is released as open source code under the Eclipse Public License (EPL).\n",
      "         For more information visit http://projects.coin-or.org/Ipopt\n",
      "\n",
      "This version of Ipopt was compiled from source code available at\n",
      "    https://github.com/IDAES/Ipopt as part of the Institute for the Design of\n",
      "    Advanced Energy Systems Process Systems Engineering Framework (IDAES PSE\n",
      "    Framework) Copyright (c) 2018-2019. See https://github.com/IDAES/idaes-pse.\n",
      "\n",
      "This version of Ipopt was compiled using HSL, a collection of Fortran codes\n",
      "    for large-scale scientific computation.  All technical papers, sales and\n",
      "    publicity material resulting from use of the HSL codes within IPOPT must\n",
      "    contain the following acknowledgement:\n",
      "        HSL, a collection of Fortran codes for large-scale scientific\n",
      "        computation. See http://www.hsl.rl.ac.uk.\n",
      "******************************************************************************\n",
      "\n",
      "This is Ipopt version 3.13.2, running with linear solver ma27.\n",
      "\n",
      "Number of nonzeros in equality constraint Jacobian...:       72\n",
      "Number of nonzeros in inequality constraint Jacobian.:        0\n",
      "Number of nonzeros in Lagrangian Hessian.............:       27\n",
      "\n",
      "Total number of variables............................:       30\n",
      "                     variables with only lower bounds:        0\n",
      "                variables with lower and upper bounds:       16\n",
      "                     variables with only upper bounds:        0\n",
      "Total number of equality constraints.................:       30\n",
      "Total number of inequality constraints...............:        0\n",
      "        inequality constraints with only lower bounds:        0\n",
      "   inequality constraints with lower and upper bounds:        0\n",
      "        inequality constraints with only upper bounds:        0\n",
      "\n",
      "iter    objective    inf_pr   inf_du lg(mu)  ||d||  lg(rg) alpha_du alpha_pr  ls\n",
      "   0  0.0000000e+00 1.65e+08 0.00e+00  -1.0 0.00e+00    -  0.00e+00 0.00e+00   0\n",
      "   1  0.0000000e+00 3.16e+05 1.56e+08  -1.0 1.75e+08    -  3.52e-06 9.99e-01f  1\n",
      "   2  0.0000000e+00 1.13e+01 3.85e+07  -1.0 3.30e+05    -  9.88e-01 1.00e+00h  1\n",
      "   3  0.0000000e+00 5.38e-09 7.48e+01  -1.0 2.13e+01    -  9.90e-01 1.00e+00h  1\n",
      "\n",
      "Number of Iterations....: 3\n",
      "\n",
      "                                   (scaled)                 (unscaled)\n",
      "Objective...............:   0.0000000000000000e+00    0.0000000000000000e+00\n",
      "Dual infeasibility......:   0.0000000000000000e+00    0.0000000000000000e+00\n",
      "Constraint violation....:   5.3820183865127547e-09    5.3820183865127547e-09\n",
      "Complementarity.........:   0.0000000000000000e+00    0.0000000000000000e+00\n",
      "Overall NLP error.......:   5.3820183865127547e-09    5.3820183865127547e-09\n",
      "\n",
      "\n",
      "Number of objective function evaluations             = 4\n",
      "Number of objective gradient evaluations             = 4\n",
      "Number of equality constraint evaluations            = 4\n",
      "Number of inequality constraint evaluations          = 0\n",
      "Number of equality constraint Jacobian evaluations   = 4\n",
      "Number of inequality constraint Jacobian evaluations = 0\n",
      "Number of Lagrangian Hessian evaluations             = 3\n",
      "Total CPU secs in IPOPT (w/o function evaluations)   =      0.087\n",
      "Total CPU secs in NLP function evaluations           =      0.084\n",
      "\n",
      "EXIT: Optimal Solution Found.\n",
      "\n",
      "====================================================================================\n",
      "Unit : fs.compressor_2                                                     Time: 0.0\n",
      "------------------------------------------------------------------------------------\n",
      "    Unit Performance\n",
      "\n",
      "    Variables: \n",
      "\n",
      "    Key                   : Value      : Units         : Fixed : Bounds\n",
      "    Isentropic Efficiency :    0.85000 : dimensionless :  True : (None, None)\n",
      "          Mechanical Work :     3239.6 :          watt : False : (None, None)\n",
      "          Pressure Change : 1.5199e+06 :        pascal : False : (None, None)\n",
      "           Pressure Ratio :     16.000 : dimensionless :  True : (None, None)\n",
      "\n",
      "------------------------------------------------------------------------------------\n",
      "    Stream Table\n",
      "                         Units           Inlet     Outlet  \n",
      "    Molar Flow          mole / second     100.00     100.00\n",
      "    Mass Flow       kilogram / second     1.8015     1.8015\n",
      "    T                          kelvin     308.15     308.25\n",
      "    P                          pascal 1.0132e+05 1.6212e+06\n",
      "    Vapor Fraction      dimensionless     0.0000     0.0000\n",
      "    Molar Enthalpy       joule / mole     2643.2     2675.6\n",
      "====================================================================================\n"
     ]
    }
   ],
   "source": [
    "m.fs.steam_in_case_2 = Feed(property_package=m.fs.properties)\n",
    "m.fs.steam_out_case_2 = Product(property_package=m.fs.properties)\n",
    "m.fs.compressor_2 = PressureChanger(\n",
    "    dynamic=False,\n",
    "    property_package=m.fs.properties,\n",
    "    compressor=True,\n",
    "    thermodynamic_assumption=ThermodynamicAssumption.isentropic\n",
    ")\n",
    "\n",
    "# Call the degrees_of_freedom function, get initial DOF\n",
    "DOF_initial = degrees_of_freedom(m)\n",
    "print(\"The initial DOF is {0}\".format(DOF_initial))\n",
    "\n",
    "m.fs.s03 = Arc(source=m.fs.steam_in_case_2.outlet, destination = m.fs.compressor_2.inlet)\n",
    "m.fs.s04 = Arc(source=m.fs.compressor_2.outlet, destination = m.fs.steam_out_case_2.inlet)\n",
    "\n",
    "TransformationFactory(\"network.expand_arcs\").apply_to(m)\n",
    "\n",
    "# Call the degrees_of_freedom function, get initial DOF\n",
    "degrees_of_freedom(m)\n",
    "\n",
    "# Fix the stream inlet conditions\n",
    "m.fs.steam_in_case_2.outlet.flow_mol[0].fix(100) # mol/s\n",
    "\n",
    "# Use htpx method to obtain the molar enthalpy of inlet stream at the given temperature and pressure conditions \n",
    "m.fs.steam_in_case_2.outlet.enth_mol[0].fix(value(htpx(T=308.15*units.K, P=101325*units.Pa))) # T in K, P in Pa\n",
    "m.fs.steam_in_case_2.outlet.pressure[0].fix(101325)\n",
    "\n",
    "# Fix compressor conditions\n",
    "m.fs.compressor_2.ratioP.fix(16)\n",
    "m.fs.compressor_2.efficiency_isentropic.fix(0.85)\n",
    "\n",
    "# Call the degrees_of_freedom function, get final DOF\n",
    "DOF_final = degrees_of_freedom(m)\n",
    "print(\"The final DOF is {0}\".format(DOF_final))\n",
    "\n",
    "# Initialize the flowsheet, and set the output at INFO level\n",
    "m.fs.compressor_2.initialize(outlvl=idaeslog.INFO)\n",
    "m.fs.steam_in_case_2.initialize(outlvl=idaeslog.INFO)\n",
    "m.fs.steam_out_case_2.initialize(outlvl=idaeslog.INFO)\n",
    "\n",
    "opt = SolverFactory('ipopt')\n",
    "solve_status = opt.solve(m, tee=True)\n",
    "\n",
    "# View results\n",
    "m.fs.compressor_2.report()"
   ]
  },
  {
   "cell_type": "code",
   "execution_count": 13,
   "id": "b067d91b",
   "metadata": {},
   "outputs": [
    {
     "name": "stdout",
     "output_type": "stream",
     "text": [
      "2025-05-13 18:21:15 [INFO] idaes.idaes_ui.fv.fsvis: Started visualization server\n",
      "2025-05-13 18:21:15 [INFO] idaes.idaes_ui.fv.fsvis: Loading saved flowsheet from 'Compressor Models.json'\n",
      "2025-05-13 18:21:15 [INFO] idaes.idaes_ui.fv.fsvis: Saving flowsheet to default file 'Compressor Models.json' in current directory (/home/viraj/Documents/Github/IDAES PSE Examples/Compressor)\n",
      "2025-05-13 18:21:15 [WARNING] idaes.idaes_ui.fv.fsvis: Flowsheet name changed: old='Compressor Models' new='Compressor-Models'\n",
      "Flowsheet name changed to 'Compressor-Models'\n",
      "2025-05-13 18:21:16 [INFO] idaes.idaes_ui.fv.fsvis: Flowsheet visualization at: http://localhost:60323/app?id=Compressor-Models\n"
     ]
    },
    {
     "data": {
      "text/plain": [
       "VisualizeResult(store=<idaes_ui.fv.persist.FileDataStore object at 0x75d37623cd10>, port=60323, server=<idaes_ui.fv.model_server.FlowsheetServer object at 0x75d37822bbf0>, save_diagram=<bound method SaveDiagramScreenshot.save_diagram_screenshot of <idaes_ui.fv.save_diagram_screenshot.SaveDiagramScreenshot object at 0x75d376071400>>)"
      ]
     },
     "execution_count": 13,
     "metadata": {},
     "output_type": "execute_result"
    }
   ],
   "source": [
    "m.fs.visualize(\"Compressor Models\")"
   ]
  }
 ],
 "metadata": {
  "kernelspec": {
   "display_name": ".venv",
   "language": "python",
   "name": "python3"
  },
  "language_info": {
   "codemirror_mode": {
    "name": "ipython",
    "version": 3
   },
   "file_extension": ".py",
   "mimetype": "text/x-python",
   "name": "python",
   "nbconvert_exporter": "python",
   "pygments_lexer": "ipython3",
   "version": "3.12.3"
  }
 },
 "nbformat": 4,
 "nbformat_minor": 5
}
