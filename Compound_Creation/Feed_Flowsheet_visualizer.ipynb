{
 "cells": [
  {
   "cell_type": "code",
   "execution_count": 1,
   "metadata": {},
   "outputs": [
    {
     "name": "stdout",
     "output_type": "stream",
     "text": [
      "\n",
      "====================================================================================\n",
      "Unit : fs.feed                                                             Time: 0.0\n",
      "------------------------------------------------------------------------------------\n",
      "    Stream Table\n",
      "                                     Units        Outlet  \n",
      "    Total Molar Flowrate          mole / second     200.00\n",
      "    Total Mole Fraction methanol  dimensionless    0.70000\n",
      "    Total Mole Fraction ethanol   dimensionless    0.30000\n",
      "    Temperature                          kelvin     350.00\n",
      "    Pressure                             pascal 2.0000e+05\n",
      "====================================================================================\n"
     ]
    }
   ],
   "source": [
    "# Import functions from your script\n",
    "from compound_properties import setup_feed_stream, report_stream_properties\n",
    "\n",
    "# Create and solve the model\n",
    "m, result = setup_feed_stream(\n",
    "    flow_mol=200,  # Customize values here\n",
    "    mole_frac_methanol=0.7,\n",
    "    mole_frac_ethanol=0.3,\n",
    "    pressure=2e5,  # 200 kPa\n",
    "    temperature=350,  # 350 K\n",
    ")\n",
    "\n",
    "# Report properties\n",
    "prop = report_stream_properties(m)"
   ]
  },
  {
   "cell_type": "code",
   "execution_count": 2,
   "metadata": {},
   "outputs": [
    {
     "name": "stdout",
     "output_type": "stream",
     "text": [
      "====================================================================================\n",
      "Model Statistics\n",
      "\n",
      "        Activated Blocks: 9 (Deactivated: 0)\n",
      "        Free Variables in Activated Constraints: 16 (External: 0)\n",
      "            Free Variables with only lower bounds: 6\n",
      "            Free Variables with only upper bounds: 0\n",
      "            Free Variables with upper and lower bounds: 8\n",
      "        Fixed Variables in Activated Constraints: 11 (External: 0)\n",
      "        Activated Equality Constraints: 16 (Deactivated: 0)\n",
      "        Activated Inequality Constraints: 0 (Deactivated: 0)\n",
      "        Activated Objectives: 0 (Deactivated: 0)\n",
      "\n",
      "------------------------------------------------------------------------------------\n",
      "1 WARNINGS\n",
      "\n",
      "    WARNING: Found 2 potential evaluation errors.\n",
      "\n",
      "------------------------------------------------------------------------------------\n",
      "2 Cautions\n",
      "\n",
      "    Caution: 3 variables fixed to 0\n",
      "    Caution: 34 unused variables (34 fixed)\n",
      "\n",
      "------------------------------------------------------------------------------------\n",
      "Suggested next steps:\n",
      "\n",
      "    display_potential_evaluation_errors()\n",
      "\n",
      "====================================================================================\n"
     ]
    }
   ],
   "source": [
    "from idaes.core.util import DiagnosticsToolbox\n",
    "# Create a diagnostics toolbox instance\n",
    "dt = DiagnosticsToolbox(m)\n",
    "dt.report_structural_issues()"
   ]
  },
  {
   "cell_type": "code",
   "execution_count": 3,
   "metadata": {},
   "outputs": [
    {
     "name": "stdout",
     "output_type": "stream",
     "text": [
      "====================================================================================\n",
      "2 WARNINGS\n",
      "\n",
      "    fs.feed.properties[0.0].equilibrium_constraint[Vap,Liq,methanol]: Potential division by 0 in fs.properties.methanol.pressure_sat_comp_coeff_B/(fs.feed.properties[0.0]._teq[Vap,Liq] + fs.properties.methanol.pressure_sat_comp_coeff_C); Denominator bounds are (-inf, inf)\n",
      "    fs.feed.properties[0.0].equilibrium_constraint[Vap,Liq,ethanol]: Potential division by 0 in fs.properties.ethanol.pressure_sat_comp_coeff_B/(fs.feed.properties[0.0]._teq[Vap,Liq] + fs.properties.ethanol.pressure_sat_comp_coeff_C); Denominator bounds are (-inf, inf)\n",
      "\n",
      "====================================================================================\n"
     ]
    }
   ],
   "source": [
    "dt.display_potential_evaluation_errors()"
   ]
  },
  {
   "cell_type": "code",
   "execution_count": null,
   "metadata": {},
   "outputs": [],
   "source": [
    "# Visualize (if needed)\n",
    "m.fs.visualize(\"Feed Stream Structure\")"
   ]
  }
 ],
 "metadata": {
  "kernelspec": {
   "display_name": ".venv",
   "language": "python",
   "name": "python3"
  },
  "language_info": {
   "codemirror_mode": {
    "name": "ipython",
    "version": 3
   },
   "file_extension": ".py",
   "mimetype": "text/x-python",
   "name": "python",
   "nbconvert_exporter": "python",
   "pygments_lexer": "ipython3",
   "version": "3.12.3"
  }
 },
 "nbformat": 4,
 "nbformat_minor": 2
}
