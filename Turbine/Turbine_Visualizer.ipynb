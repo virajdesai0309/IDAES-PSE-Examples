{
 "cells": [
  {
   "cell_type": "markdown",
   "id": "0ff56803",
   "metadata": {},
   "source": [
    "**Steam Table Simulation: Steam Expansion Process in a Turbine**\n",
    "\n",
    "In this tutorial, we will simulate a steam expansion process through a turbine using thermodynamic properties obtained from standard steam tables. This approach is commonly used for water and steam systems, where accurate property data (enthalpy, entropy, specific volume) is tabulated based on temperature and pressure.\n",
    "\n",
    "We assume that the steam turbine operates at steady state.\n",
    "\n",
    "### Inlet Specifications:\n",
    "\n",
    "* **Mole Flow Rate**: 100 mol/s\n",
    "* **Inlet Pressure**: 3 MPa\n",
    "* **Inlet Temperature**: 773.15 K (500°C)\n",
    "\n",
    "We will simulate two different cases based on turbine configuration inputs provided by the user:\n",
    "\n",
    "---\n",
    "\n",
    "### **Case 1: Fixed Isentropic Efficiency and Pressure Drop**\n",
    "\n",
    "In this scenario, we assume that the user specifies the desired pressure decrease and the isentropic efficiency of the turbine. Steam properties at inlet and isentropic outlet conditions will be determined using steam tables.\n",
    "\n",
    "* **Pressure Drop**: 2 MPa\n",
    "* **Isentropic Efficiency**: 0.85\n",
    "\n",
    "---\n",
    "\n",
    "### **Case 2: Fixed Isentropic Efficiency and Pressure Ratio**\n",
    "\n",
    "Here, the user defines a pressure ratio instead of a pressure drop. The final pressure is calculated from the inlet pressure and pressure ratio, and steam table data is used to compute the isentropic and actual outlet enthalpy.\n",
    "\n",
    "* **Pressure Ratio**: 0.5\n",
    "* **Isentropic Efficiency**: 0.85\n",
    "\n",
    "---\n",
    "\n",
    "For both cases, outlet enthalpies and power output from the turbine will be calculated using steam table data. This approach is ideal when working with saturated or superheated steam in power plant simulations or thermodynamic cycle analysis.\n",
    "\n",
    "---\n"
   ]
  },
  {
   "cell_type": "code",
   "execution_count": 2,
   "id": "d08e1286",
   "metadata": {},
   "outputs": [],
   "source": [
    "# Import pyomo package\n",
    "from pyomo.environ import ConcreteModel, Constraint, value, units\n",
    "\n",
    "# Import idaes logger to set output levels\n",
    "import idaes.logger as idaeslog\n",
    "\n",
    "# Import the main FlowsheetBlock from IDAES. The flowsheet block will contain the unit model\n",
    "from idaes.core import FlowsheetBlock\n",
    "\n",
    "# Import the IAPWS property package to create a properties block for steam in the flowsheet\n",
    "from idaes.models.properties import iapws95\n",
    "\n",
    "from idaes.models.properties.iapws95 import htpx\n",
    "\n",
    "# Import the degrees_of_freedom function from the idaes.core.util.model_statistics package\n",
    "from idaes.core.util.model_statistics import degrees_of_freedom\n",
    "\n",
    "# Import the default IPOPT solver\n",
    "from idaes.core.solvers import get_solver\n",
    "\n",
    "# Import a compressor unit\n",
    "from idaes.models.unit_models.pressure_changer import Turbine, ThermodynamicAssumption\n",
    "\n",
    "# Import a feed and product stream\n",
    "from idaes.models.unit_models import Feed, Product"
   ]
  },
  {
   "cell_type": "markdown",
   "id": "59b6d66b",
   "metadata": {},
   "source": [
    "## Setting up the flowsheet\n",
    "\n",
    "Creating a `ConcreteModel` foundation, attaching the steady-state flowsheet, and declaring the property package for the steam turbine simulation."
   ]
  },
  {
   "cell_type": "code",
   "execution_count": 3,
   "id": "fa7a802b",
   "metadata": {},
   "outputs": [],
   "source": [
    "m = ConcreteModel()\n",
    "\n",
    "m.fs = FlowsheetBlock(dynamic=False)\n",
    "\n",
    "m.fs.properties = iapws95.Iapws95ParameterBlock()"
   ]
  },
  {
   "cell_type": "code",
   "execution_count": 4,
   "id": "7e519bd9",
   "metadata": {},
   "outputs": [
    {
     "name": "stdout",
     "output_type": "stream",
     "text": [
      "The initial DOF is 5\n"
     ]
    }
   ],
   "source": [
    "m.fs.steam_in = Feed(property_package=m.fs.properties)\n",
    "m.fs.steam_out = Product(property_package=m.fs.properties)\n",
    "m.fs.turbine_1 = Turbine(\n",
    "    dynamic=False,\n",
    "    property_package=m.fs.properties,\n",
    ")\n",
    "\n",
    "# Call the degrees_of_freedom function, get initial DOF\n",
    "DOF_initial = degrees_of_freedom(m)\n",
    "print(\"The initial DOF is {0}\".format(DOF_initial))"
   ]
  },
  {
   "cell_type": "markdown",
   "id": "74b36cf7",
   "metadata": {},
   "source": [
    "## Connecting the unit operations"
   ]
  },
  {
   "cell_type": "code",
   "execution_count": 5,
   "id": "e9124263",
   "metadata": {},
   "outputs": [],
   "source": [
    "# Import necessary Pyomo components\n",
    "from pyomo.environ import TransformationFactory\n",
    "\n",
    "# Import the Arc component for connecting unit models\n",
    "from pyomo.network import Arc"
   ]
  },
  {
   "cell_type": "code",
   "execution_count": 6,
   "id": "ec46a8c5",
   "metadata": {},
   "outputs": [
    {
     "ename": "AttributeError",
     "evalue": "'_ScalarFlowsheetBlock' object has no attribute 'compressor_1'",
     "output_type": "error",
     "traceback": [
      "\u001b[31m---------------------------------------------------------------------------\u001b[39m",
      "\u001b[31mAttributeError\u001b[39m                            Traceback (most recent call last)",
      "\u001b[36mCell\u001b[39m\u001b[36m \u001b[39m\u001b[32mIn[6]\u001b[39m\u001b[32m, line 1\u001b[39m\n\u001b[32m----> \u001b[39m\u001b[32m1\u001b[39m m.fs.s01 = Arc(source=m.fs.steam_in.outlet, destination = \u001b[43mm\u001b[49m\u001b[43m.\u001b[49m\u001b[43mfs\u001b[49m\u001b[43m.\u001b[49m\u001b[43mcompressor_1\u001b[49m.inlet)\n\u001b[32m      2\u001b[39m m.fs.s02 = Arc(source=m.fs.compressor_1.outlet, destination = m.fs.steam_out.inlet)\n\u001b[32m      4\u001b[39m TransformationFactory(\u001b[33m\"\u001b[39m\u001b[33mnetwork.expand_arcs\u001b[39m\u001b[33m\"\u001b[39m).apply_to(m)\n",
      "\u001b[36mFile \u001b[39m\u001b[32m~/Documents/Github/IDAES PSE Examples/.venv/lib/python3.12/site-packages/pyomo/core/base/block.py:550\u001b[39m, in \u001b[36mBlockData.__getattr__\u001b[39m\u001b[34m(self, val)\u001b[39m\n\u001b[32m    547\u001b[39m     \u001b[38;5;28;01mreturn\u001b[39;00m _component_decorator(\u001b[38;5;28mself\u001b[39m, ModelComponentFactory.get_class(val))\n\u001b[32m    548\u001b[39m \u001b[38;5;66;03m# Since the base classes don't support getattr, we can just\u001b[39;00m\n\u001b[32m    549\u001b[39m \u001b[38;5;66;03m# throw the \"normal\" AttributeError\u001b[39;00m\n\u001b[32m--> \u001b[39m\u001b[32m550\u001b[39m \u001b[38;5;28;01mraise\u001b[39;00m \u001b[38;5;167;01mAttributeError\u001b[39;00m(\n\u001b[32m    551\u001b[39m     \u001b[33m\"\u001b[39m\u001b[33m'\u001b[39m\u001b[38;5;132;01m%s\u001b[39;00m\u001b[33m'\u001b[39m\u001b[33m object has no attribute \u001b[39m\u001b[33m'\u001b[39m\u001b[38;5;132;01m%s\u001b[39;00m\u001b[33m'\u001b[39m\u001b[33m\"\u001b[39m % (\u001b[38;5;28mself\u001b[39m.\u001b[34m__class__\u001b[39m.\u001b[34m__name__\u001b[39m, val)\n\u001b[32m    552\u001b[39m )\n",
      "\u001b[31mAttributeError\u001b[39m: '_ScalarFlowsheetBlock' object has no attribute 'compressor_1'"
     ]
    }
   ],
   "source": [
    "m.fs.s01 = Arc(source=m.fs.steam_in.outlet, destination = m.fs.compressor_1.inlet)\n",
    "m.fs.s02 = Arc(source=m.fs.compressor_1.outlet, destination = m.fs.steam_out.inlet)\n",
    "\n",
    "TransformationFactory(\"network.expand_arcs\").apply_to(m)\n",
    "\n",
    "# Call the degrees_of_freedom function, get initial DOF\n",
    "degrees_of_freedom(m)"
   ]
  },
  {
   "cell_type": "markdown",
   "id": "ccf1dfc1",
   "metadata": {},
   "source": [
    "## Setting up the conditions"
   ]
  },
  {
   "cell_type": "code",
   "execution_count": null,
   "id": "a67939b5",
   "metadata": {},
   "outputs": [],
   "source": [
    "# Fix the stream inlet conditions\n",
    "m.fs.compressor_1.inlet.flow_mol[0].fix(100) # mol/s\n",
    "\n",
    "# Use htpx method to obtain the molar enthalpy of inlet stream at the given temperature and pressure conditions \n",
    "m.fs.compressor_1.inlet.enth_mol[0].fix(value(htpx(T=308.15*units.K, P=101325*units.Pa))) # T in K, P in Pa\n",
    "m.fs.compressor_1.inlet.pressure[0].fix(101325)"
   ]
  },
  {
   "cell_type": "markdown",
   "id": "a66dcec1",
   "metadata": {},
   "source": [
    "## Fixing the pressure change and isentropic efficiency"
   ]
  },
  {
   "cell_type": "code",
   "execution_count": null,
   "id": "8035efb6",
   "metadata": {},
   "outputs": [],
   "source": [
    "# Fix compressor conditions\n",
    "m.fs.compressor_1.deltaP.fix(101325*5)\n",
    "m.fs.compressor_1.efficiency_isentropic.fix(0.85)\n",
    "\n",
    "# Call the degrees_of_freedom function, get final DOF\n",
    "DOF_final = degrees_of_freedom(m)\n",
    "print(\"The final DOF is {0}\".format(DOF_final))"
   ]
  },
  {
   "cell_type": "markdown",
   "id": "0e74ed1f",
   "metadata": {},
   "source": [
    "## Initaialization"
   ]
  },
  {
   "cell_type": "code",
   "execution_count": null,
   "id": "494e437b",
   "metadata": {},
   "outputs": [],
   "source": [
    "# Initialize the flowsheet, and set the output at INFO level\n",
    "m.fs.compressor_1.initialize(outlvl=idaeslog.INFO)\n",
    "m.fs.steam_in.initialize(outlvl=idaeslog.INFO)\n",
    "m.fs.steam_out.initialize(outlvl=idaeslog.INFO)"
   ]
  },
  {
   "cell_type": "markdown",
   "id": "241b6a98",
   "metadata": {},
   "source": [
    "## Solve the model"
   ]
  },
  {
   "cell_type": "code",
   "execution_count": null,
   "id": "c1acb332",
   "metadata": {},
   "outputs": [],
   "source": [
    "# Solve the simulation using ipopt\n",
    "# Note: If the degrees of freedom = 0, we have a square problem\n",
    "from pyomo.environ import SolverFactory\n",
    "opt = SolverFactory('ipopt')\n",
    "solve_status = opt.solve(m, tee=True)"
   ]
  },
  {
   "cell_type": "code",
   "execution_count": null,
   "id": "3d3ec0b3",
   "metadata": {},
   "outputs": [],
   "source": [
    "# View results\n",
    "m.fs.compressor_1.report()"
   ]
  },
  {
   "cell_type": "code",
   "execution_count": null,
   "id": "b067d91b",
   "metadata": {},
   "outputs": [],
   "source": [
    "m.fs.visualize(\"Turbine Model\")"
   ]
  }
 ],
 "metadata": {
  "kernelspec": {
   "display_name": ".venv",
   "language": "python",
   "name": "python3"
  },
  "language_info": {
   "codemirror_mode": {
    "name": "ipython",
    "version": 3
   },
   "file_extension": ".py",
   "mimetype": "text/x-python",
   "name": "python",
   "nbconvert_exporter": "python",
   "pygments_lexer": "ipython3",
   "version": "3.12.3"
  }
 },
 "nbformat": 4,
 "nbformat_minor": 5
}
