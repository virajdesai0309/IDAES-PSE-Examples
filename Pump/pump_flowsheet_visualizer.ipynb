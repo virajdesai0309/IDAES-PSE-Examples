{
 "cells": [
  {
   "cell_type": "code",
   "execution_count": 1,
   "metadata": {},
   "outputs": [
    {
     "ename": "ImportError",
     "evalue": "cannot import name 'setup_pump_model' from 'pump' (/home/viraj/Documents/Github/IDAES PSE Examples/Pump/pump.py)",
     "output_type": "error",
     "traceback": [
      "\u001b[31m---------------------------------------------------------------------------\u001b[39m",
      "\u001b[31mImportError\u001b[39m                               Traceback (most recent call last)",
      "\u001b[36mCell\u001b[39m\u001b[36m \u001b[39m\u001b[32mIn[1]\u001b[39m\u001b[32m, line 1\u001b[39m\n\u001b[32m----> \u001b[39m\u001b[32m1\u001b[39m \u001b[38;5;28;01mfrom\u001b[39;00m\u001b[38;5;250m \u001b[39m\u001b[34;01mpump\u001b[39;00m\u001b[38;5;250m \u001b[39m\u001b[38;5;28;01mimport\u001b[39;00m setup_pump_model, report_pump_properties\n\u001b[32m      3\u001b[39m \u001b[38;5;66;03m# Create and solve the model\u001b[39;00m\n\u001b[32m      4\u001b[39m m, result = setup_pump_model(\n\u001b[32m      5\u001b[39m     flow_mol=\u001b[32m200\u001b[39m,  \u001b[38;5;66;03m# Customize values here\u001b[39;00m\n\u001b[32m      6\u001b[39m     mole_frac_methanol=\u001b[32m0.7\u001b[39m,\n\u001b[32m   (...)\u001b[39m\u001b[32m      9\u001b[39m     temperature=\u001b[32m300\u001b[39m,  \u001b[38;5;66;03m# 350 K\u001b[39;00m\n\u001b[32m     10\u001b[39m )\n",
      "\u001b[31mImportError\u001b[39m: cannot import name 'setup_pump_model' from 'pump' (/home/viraj/Documents/Github/IDAES PSE Examples/Pump/pump.py)"
     ]
    }
   ],
   "source": [
    "from pump import setup_pump_model, report_pump_properties\n",
    "\n",
    "# Create and solve the model\n",
    "m, result = setup_pump_model(\n",
    "    flow_mol=200,  # Customize values here\n",
    "    mole_frac_methanol=0.7,\n",
    "    mole_frac_ethanol=0.3,\n",
    "    pressure=2e5,  # 200 kPa\n",
    "    temperature=300,  # 350 K\n",
    ")\n",
    "\n",
    "# Report properties\n",
    "prop = report_pump_properties(m)"
   ]
  },
  {
   "cell_type": "code",
   "execution_count": 2,
   "metadata": {},
   "outputs": [
    {
     "name": "stdout",
     "output_type": "stream",
     "text": [
      "2025-05-04 21:09:11 [INFO] idaes.idaes_ui.fv.fsvis: Started visualization server\n",
      "2025-05-04 21:09:11 [INFO] idaes.idaes_ui.fv.fsvis: Saving flowsheet to default file 'Flash Structure.json' in current directory (/home/viraj/Documents/Github/IDAES PSE Examples/Flash)\n",
      "2025-05-04 21:09:11 [WARNING] idaes.idaes_ui.fv.fsvis: Flowsheet name changed: old='Flash Structure' new='Flash-Structure'\n",
      "Flowsheet name changed to 'Flash-Structure'\n",
      "2025-05-04 21:09:11 [INFO] idaes.idaes_ui.fv.fsvis: Flowsheet visualization at: http://localhost:47137/app?id=Flash-Structure\n"
     ]
    },
    {
     "data": {
      "text/plain": [
       "VisualizeResult(store=<idaes_ui.fv.persist.FileDataStore object at 0x72f376d69b80>, port=47137, server=<idaes_ui.fv.model_server.FlowsheetServer object at 0x72f377dbf200>, save_diagram=<bound method SaveDiagramScreenshot.save_diagram_screenshot of <idaes_ui.fv.save_diagram_screenshot.SaveDiagramScreenshot object at 0x72f3781673b0>>)"
      ]
     },
     "execution_count": 2,
     "metadata": {},
     "output_type": "execute_result"
    }
   ],
   "source": [
    "# Visualize (if needed)\n",
    "m.fs.visualize(\"Flash Structure\")"
   ]
  }
 ],
 "metadata": {
  "kernelspec": {
   "display_name": ".venv",
   "language": "python",
   "name": "python3"
  },
  "language_info": {
   "codemirror_mode": {
    "name": "ipython",
    "version": 3
   },
   "file_extension": ".py",
   "mimetype": "text/x-python",
   "name": "python",
   "nbconvert_exporter": "python",
   "pygments_lexer": "ipython3",
   "version": "3.12.3"
  }
 },
 "nbformat": 4,
 "nbformat_minor": 2
}
