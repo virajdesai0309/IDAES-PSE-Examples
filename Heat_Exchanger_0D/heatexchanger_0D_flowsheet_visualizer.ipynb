{
 "cells": [
  {
   "cell_type": "code",
   "execution_count": 1,
   "metadata": {},
   "outputs": [
    {
     "name": "stdout",
     "output_type": "stream",
     "text": [
      "Initial Degrees of Freedom: 10\n",
      "Final Degrees of Freedom: 0\n",
      "WARNING: Loading a SolverResults object with a warning status into\n",
      "model.name=\"unknown\";\n",
      "    - termination condition: maxIterations\n",
      "    - message from solver: Ipopt 3.13.2\\x3a Maximum Number of Iterations\n",
      "      Exceeded.\n",
      "\n",
      "Heat Duty: 2572.254223588106 W\n",
      "ΔT Driving Force: 0.35273353442612776 K\n",
      "\n",
      "Stream Table:\n",
      "                                          Units Cold Inlet    Cold Outlet  \\\n",
      "Total Molar Flowrate              mole / second        1.0       1.085364   \n",
      "Total Mole Fraction methanol      dimensionless        0.5       0.497389   \n",
      "Total Mole Fraction ethanol       dimensionless        0.5       0.476918   \n",
      "Temperature                              kelvin        300     363.262627   \n",
      "Pressure                                 pascal   101325.0  101324.999979   \n",
      "Molar Flow                        mole / second          -              -   \n",
      "Mass Flow                     kilogram / second          -              -   \n",
      "T                                        kelvin          -              -   \n",
      "P                                        pascal          -              -   \n",
      "Vapor Fraction                    dimensionless          -              -   \n",
      "Molar Enthalpy                     joule / mole          -              -   \n",
      "\n",
      "                                 Hot Inlet     Hot Outlet  \n",
      "Total Molar Flowrate                     -              -  \n",
      "Total Mole Fraction methanol             -              -  \n",
      "Total Mole Fraction ethanol              -              -  \n",
      "Temperature                              -              -  \n",
      "Pressure                                 -              -  \n",
      "Molar Flow                           0.039       0.053819  \n",
      "Mass Flow                         0.000703        0.00097  \n",
      "T                                    380.0     273.175206  \n",
      "P                                   101325  101325.001621  \n",
      "Vapor Fraction                         1.0            0.0  \n",
      "Molar Enthalpy                48456.249527       3.015209  \n"
     ]
    }
   ],
   "source": [
    "from heatexchanger_0D import setup_heatexchanger_model, report_heatexchanger_properties\n",
    "\n",
    "# Define input conditions\n",
    "feed_stream = {\n",
    "    \"flow_mol\": 1.0,\n",
    "    \"mole_frac_methanol\": 0.5,\n",
    "    \"mole_frac_ethanol\": 0.5,\n",
    "    \"pressure\": 101325,\n",
    "    \"temperature\": 300\n",
    "}\n",
    "water_stream = {\n",
    "    \"flow_mol\": 0.039,\n",
    "    \"pressure\": 101325,\n",
    "    \"temperature\": 380\n",
    "}\n",
    "    \n",
    "# Create and solve model\n",
    "m, results = setup_heatexchanger_model(feed_stream, water_stream, hx_area=10.0, hx_u=500.0)\n",
    "    \n",
    "# Generate report\n",
    "report = report_heatexchanger_properties(m)\n",
    "print(\"\\nHeat Duty:\", report[\"heat_duty\"], \"W\")\n",
    "print(\"ΔT Driving Force:\", report[\"delta_T\"], \"K\")\n",
    "print(\"\\nStream Table:\")\n",
    "print(report[\"stream_table\"])"
   ]
  },
  {
   "cell_type": "code",
   "execution_count": 2,
   "metadata": {},
   "outputs": [
    {
     "name": "stdout",
     "output_type": "stream",
     "text": [
      "2025-05-11 07:39:36 [INFO] idaes.idaes_ui.fv.fsvis: Started visualization server\n",
      "2025-05-11 07:39:36 [INFO] idaes.idaes_ui.fv.fsvis: Loading saved flowsheet from 'Heat Exchanger 0D Model.json'\n",
      "2025-05-11 07:39:36 [INFO] idaes.idaes_ui.fv.fsvis: Saving flowsheet to default file 'Heat Exchanger 0D Model.json' in current directory (/home/viraj/Documents/Github/IDAES PSE Examples/Heat_Exchanger_0D)\n",
      "2025-05-11 07:39:36 [WARNING] idaes.idaes_ui.fv.fsvis: Flowsheet name changed: old='Heat Exchanger 0D Model' new='Heat-Exchanger-0D-Model'\n",
      "Flowsheet name changed to 'Heat-Exchanger-0D-Model'\n",
      "2025-05-11 07:39:37 [INFO] idaes.idaes_ui.fv.fsvis: Flowsheet visualization at: http://localhost:51707/app?id=Heat-Exchanger-0D-Model\n"
     ]
    },
    {
     "data": {
      "text/plain": [
       "VisualizeResult(store=<idaes_ui.fv.persist.FileDataStore object at 0x7703be7d54f0>, port=51707, server=<idaes_ui.fv.model_server.FlowsheetServer object at 0x7704006bc9b0>, save_diagram=<bound method SaveDiagramScreenshot.save_diagram_screenshot of <idaes_ui.fv.save_diagram_screenshot.SaveDiagramScreenshot object at 0x7703bf131160>>)"
      ]
     },
     "execution_count": 2,
     "metadata": {},
     "output_type": "execute_result"
    }
   ],
   "source": [
    "# Visualize (if needed)\n",
    "m.fs.visualize(\"Heat Exchanger 0D Model\")"
   ]
  }
 ],
 "metadata": {
  "kernelspec": {
   "display_name": ".venv",
   "language": "python",
   "name": "python3"
  },
  "language_info": {
   "codemirror_mode": {
    "name": "ipython",
    "version": 3
   },
   "file_extension": ".py",
   "mimetype": "text/x-python",
   "name": "python",
   "nbconvert_exporter": "python",
   "pygments_lexer": "ipython3",
   "version": "3.12.3"
  }
 },
 "nbformat": 4,
 "nbformat_minor": 2
}
